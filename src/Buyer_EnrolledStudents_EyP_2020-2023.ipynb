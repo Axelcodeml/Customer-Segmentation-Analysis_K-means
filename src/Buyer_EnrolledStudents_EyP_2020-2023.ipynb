{
 "cells": [
  {
   "cell_type": "markdown",
   "id": "65054faf",
   "metadata": {},
   "source": [
    "# Customer Segmentation Analysis with Unsupervised Learning for former-students of the automotive bodywork and painting course.\n",
    "\n",
    "![image](http://denary.wpengine.com/wp-content/uploads/2014/07/picture_market_segmentation-10-4-13-resized-600.png)\n",
    "\n",
    "The following code represents the process to make a customer segmentation by using the data about the former students in historical courses and applying an Unsupersived Learning Technique such as **K-Means Algorithm** and then, this will form clusters or classifications about the clients characteristics. \n",
    "To determine their characteristics by means of a cluster, the marketing equipment has selected the next variables that were previously registered a database of their CRM(customer relationship managment). The team needs to determine the type of client that historically has been attended to this course like a branch of the automotive engineer, and generate strategies of targeting of adverstising in social media campaigns that are nearby. </br></br>\n",
    "They next variables are features extracted from the databse in Milenium Tech.</br></br>\n",
    "\n",
    "**pers_nombres:** Name</br>\n",
    "**pers_apellidos:** Last name</br>\n",
    "**pers_documento_identidad:** ID document</br> \n",
    "**estu_nivel_estudio:** Study Level</br>\n",
    "**estu_cargo_ocupa:** Job Position</br>\n",
    "**estu_direccion_trabajo:** Address</br>\n",
    "**estu_ingresos_mensuales:** Monthly Incomes</br>\n",
    "**estu_ultimo_curso:** Followed Last Course</br> \n",
    "**pers_fecha_nacimiento:** Date Birth</br>\n",
    "**matr_medio_informacion:** Information Medium</br> \n",
    "**pers_domicilio:** Addresss</br>\n",
    "**pers_provincia:** State</br>\n",
    "**pers_ciudad:** City</br>\n",
    "**pers_sector:** Sector</br>\n",
    "**pers_nacionalidad:** Nationality</br>\n",
    "**pers_facebook:** Facebook Account</br>\n",
    "**matr_fecha_matricula:** Enrollment date</br>\n",
    "**matr_estado:** Enrollment State</br>\n",
    "**curs_nombre:** Course's name</br>\n",
    "\n",
    "</br> The steps to make in this script are the next:</br>\n",
    "**1) Feature Engineering:** for replacing the name of variables, codes and select the main variable to be used.</br></br>\n",
    "**2) EDA:** To make a Exploratory Data Analysis with the numerical and categorical variables by using descriptive statistics and see the distribution of data and their correlation. </br></br>\n",
    "**3) Unsupervised Learning:** It's been used K-means for making a clustering analysis of distribution of the clients with similar characterist and acknowledge patterns and trends in those grops. </br></br>\n",
    "**4) Conclusions:** The enterprise will use these results to share with marketing department to know the different kind of clients that has arrived to the Institute and they can formulate strategies campaigns according to the kind of users."
   ]
  },
  {
   "cell_type": "code",
   "execution_count": 1,
   "id": "abc52dd9",
   "metadata": {},
   "outputs": [],
   "source": [
    "import numpy as np\n",
    "import pandas as pd\n",
    "import matplotlib.pyplot as plt\n",
    "import seaborn as sns\n",
    "\n",
    "#unused but required import for doing 3d projections with matplotlib < 3.2\n",
    "import mpl_toolkits.mplot3d  # noqa: F401"
   ]
  },
  {
   "cell_type": "code",
   "execution_count": 5,
   "id": "3916fe93",
   "metadata": {
    "chatgpt_cell": "code",
    "chatgpt_language": "python",
    "chatgpt_thread": "",
    "scrolled": true
   },
   "outputs": [
    {
     "data": {
      "text/plain": [
       "(25, 19)"
      ]
     },
     "execution_count": 5,
     "metadata": {},
     "output_type": "execute_result"
    }
   ],
   "source": [
    "# Read the CSV files into pandas DataFrames\n",
    "df = pd.read_csv('../data/Inscritos_matriculados_EyP_all_descriptions.csv')\n",
    "df.shape"
   ]
  },
  {
   "cell_type": "code",
   "execution_count": 6,
   "id": "2f88490f",
   "metadata": {},
   "outputs": [
    {
     "name": "stdout",
     "output_type": "stream",
     "text": [
      "['pers_nombres', 'pers_apellidos', 'pers_documento_identidad', 'estu_nivel_estudio', 'estu_cargo_ocupa', 'estu_direccion_trabajo', 'estu_ingresos_mensuales', 'estu_ultimo_curso', 'pers_fecha_nacimiento', 'matr_medio_informacion', 'pers_domicilio', 'pers_provincia', 'pers_ciudad', 'pers_sector', 'pers_nacionalidad', 'pers_facebook', 'matr_fecha_matricula', 'matr_estado', 'curs_nombre']\n"
     ]
    }
   ],
   "source": [
    "print(df.columns.tolist())"
   ]
  },
  {
   "cell_type": "code",
   "execution_count": 7,
   "id": "764789ba",
   "metadata": {},
   "outputs": [],
   "source": [
    "new_names=['nombres', 'apellidos', 'documento_identidad',\n",
    "       'estudios', 'ocupación', 'dirtrabajo','ingresos', 'ultimocurso',\n",
    "       'fecha_nacimiento', 'medio', 'domicilio',\n",
    "       'provincia', 'ciudad', 'sector', 'nacionalidad',\n",
    "       'facebook', 'fecha_matricula', 'estado', 'nombre_curso']"
   ]
  },
  {
   "cell_type": "markdown",
   "id": "c03bdc72",
   "metadata": {},
   "source": [
    "## 1) Feature Engineering"
   ]
  },
  {
   "cell_type": "markdown",
   "id": "026533be",
   "metadata": {},
   "source": [
    "### 1.1 Renaming Columns"
   ]
  },
  {
   "cell_type": "code",
   "execution_count": 8,
   "id": "5c153261",
   "metadata": {},
   "outputs": [],
   "source": [
    "i=0\n",
    "for i in range(0,df.columns.shape[0]):\n",
    "    df.rename(columns={df.columns[i]:new_names[i]},inplace=True)"
   ]
  },
  {
   "cell_type": "code",
   "execution_count": 9,
   "id": "4946f7cf",
   "metadata": {},
   "outputs": [
    {
     "data": {
      "text/plain": [
       "(25, 19)"
      ]
     },
     "execution_count": 9,
     "metadata": {},
     "output_type": "execute_result"
    }
   ],
   "source": [
    "df.shape"
   ]
  },
  {
   "cell_type": "code",
   "execution_count": 10,
   "id": "02274091",
   "metadata": {},
   "outputs": [
    {
     "name": "stdout",
     "output_type": "stream",
     "text": [
      "<class 'pandas.core.frame.DataFrame'>\n",
      "RangeIndex: 25 entries, 0 to 24\n",
      "Data columns (total 19 columns):\n",
      " #   Column               Non-Null Count  Dtype  \n",
      "---  ------               --------------  -----  \n",
      " 0   nombres              25 non-null     object \n",
      " 1   apellidos            25 non-null     object \n",
      " 2   documento_identidad  25 non-null     int64  \n",
      " 3   estudios             25 non-null     object \n",
      " 4   ocupación            25 non-null     object \n",
      " 5   dirtrabajo           22 non-null     object \n",
      " 6   ingresos             25 non-null     object \n",
      " 7   ultimocurso          0 non-null      float64\n",
      " 8   fecha_nacimiento     25 non-null     object \n",
      " 9   medio                25 non-null     object \n",
      " 10  domicilio            23 non-null     object \n",
      " 11  provincia            25 non-null     int64  \n",
      " 12  ciudad               25 non-null     int64  \n",
      " 13  sector               25 non-null     object \n",
      " 14  nacionalidad         0 non-null      float64\n",
      " 15  facebook             14 non-null     object \n",
      " 16  fecha_matricula      25 non-null     object \n",
      " 17  estado               25 non-null     object \n",
      " 18  nombre_curso         25 non-null     object \n",
      "dtypes: float64(2), int64(3), object(14)\n",
      "memory usage: 3.8+ KB\n"
     ]
    }
   ],
   "source": [
    "df.info()"
   ]
  },
  {
   "cell_type": "code",
   "execution_count": 11,
   "id": "17a03116",
   "metadata": {},
   "outputs": [
    {
     "data": {
      "text/html": [
       "<div>\n",
       "<style scoped>\n",
       "    .dataframe tbody tr th:only-of-type {\n",
       "        vertical-align: middle;\n",
       "    }\n",
       "\n",
       "    .dataframe tbody tr th {\n",
       "        vertical-align: top;\n",
       "    }\n",
       "\n",
       "    .dataframe thead th {\n",
       "        text-align: right;\n",
       "    }\n",
       "</style>\n",
       "<table border=\"1\" class=\"dataframe\">\n",
       "  <thead>\n",
       "    <tr style=\"text-align: right;\">\n",
       "      <th></th>\n",
       "      <th>count</th>\n",
       "      <th>unique</th>\n",
       "      <th>top</th>\n",
       "      <th>freq</th>\n",
       "      <th>mean</th>\n",
       "      <th>std</th>\n",
       "      <th>min</th>\n",
       "      <th>25%</th>\n",
       "      <th>50%</th>\n",
       "      <th>75%</th>\n",
       "      <th>max</th>\n",
       "    </tr>\n",
       "  </thead>\n",
       "  <tbody>\n",
       "    <tr>\n",
       "      <th>nombres</th>\n",
       "      <td>25</td>\n",
       "      <td>25</td>\n",
       "      <td>Jesy Alexander</td>\n",
       "      <td>1</td>\n",
       "      <td>NaN</td>\n",
       "      <td>NaN</td>\n",
       "      <td>NaN</td>\n",
       "      <td>NaN</td>\n",
       "      <td>NaN</td>\n",
       "      <td>NaN</td>\n",
       "      <td>NaN</td>\n",
       "    </tr>\n",
       "    <tr>\n",
       "      <th>apellidos</th>\n",
       "      <td>25</td>\n",
       "      <td>25</td>\n",
       "      <td>Serrano Arteaga</td>\n",
       "      <td>1</td>\n",
       "      <td>NaN</td>\n",
       "      <td>NaN</td>\n",
       "      <td>NaN</td>\n",
       "      <td>NaN</td>\n",
       "      <td>NaN</td>\n",
       "      <td>NaN</td>\n",
       "      <td>NaN</td>\n",
       "    </tr>\n",
       "    <tr>\n",
       "      <th>documento_identidad</th>\n",
       "      <td>25.0</td>\n",
       "      <td>NaN</td>\n",
       "      <td>NaN</td>\n",
       "      <td>NaN</td>\n",
       "      <td>1490538868.72</td>\n",
       "      <td>462089680.954222</td>\n",
       "      <td>20514724.0</td>\n",
       "      <td>1312483660.0</td>\n",
       "      <td>1717930588.0</td>\n",
       "      <td>1723297436.0</td>\n",
       "      <td>1759456781.0</td>\n",
       "    </tr>\n",
       "    <tr>\n",
       "      <th>estudios</th>\n",
       "      <td>25</td>\n",
       "      <td>4</td>\n",
       "      <td>NIVEL04</td>\n",
       "      <td>12</td>\n",
       "      <td>NaN</td>\n",
       "      <td>NaN</td>\n",
       "      <td>NaN</td>\n",
       "      <td>NaN</td>\n",
       "      <td>NaN</td>\n",
       "      <td>NaN</td>\n",
       "      <td>NaN</td>\n",
       "    </tr>\n",
       "    <tr>\n",
       "      <th>ocupación</th>\n",
       "      <td>25</td>\n",
       "      <td>4</td>\n",
       "      <td>CARG01</td>\n",
       "      <td>17</td>\n",
       "      <td>NaN</td>\n",
       "      <td>NaN</td>\n",
       "      <td>NaN</td>\n",
       "      <td>NaN</td>\n",
       "      <td>NaN</td>\n",
       "      <td>NaN</td>\n",
       "      <td>NaN</td>\n",
       "    </tr>\n",
       "    <tr>\n",
       "      <th>dirtrabajo</th>\n",
       "      <td>22</td>\n",
       "      <td>22</td>\n",
       "      <td>Machala y jorge piedra</td>\n",
       "      <td>1</td>\n",
       "      <td>NaN</td>\n",
       "      <td>NaN</td>\n",
       "      <td>NaN</td>\n",
       "      <td>NaN</td>\n",
       "      <td>NaN</td>\n",
       "      <td>NaN</td>\n",
       "      <td>NaN</td>\n",
       "    </tr>\n",
       "    <tr>\n",
       "      <th>ingresos</th>\n",
       "      <td>25</td>\n",
       "      <td>3</td>\n",
       "      <td>INGR02</td>\n",
       "      <td>12</td>\n",
       "      <td>NaN</td>\n",
       "      <td>NaN</td>\n",
       "      <td>NaN</td>\n",
       "      <td>NaN</td>\n",
       "      <td>NaN</td>\n",
       "      <td>NaN</td>\n",
       "      <td>NaN</td>\n",
       "    </tr>\n",
       "    <tr>\n",
       "      <th>ultimocurso</th>\n",
       "      <td>0.0</td>\n",
       "      <td>NaN</td>\n",
       "      <td>NaN</td>\n",
       "      <td>NaN</td>\n",
       "      <td>NaN</td>\n",
       "      <td>NaN</td>\n",
       "      <td>NaN</td>\n",
       "      <td>NaN</td>\n",
       "      <td>NaN</td>\n",
       "      <td>NaN</td>\n",
       "      <td>NaN</td>\n",
       "    </tr>\n",
       "    <tr>\n",
       "      <th>fecha_nacimiento</th>\n",
       "      <td>25</td>\n",
       "      <td>25</td>\n",
       "      <td>1987-08-18</td>\n",
       "      <td>1</td>\n",
       "      <td>NaN</td>\n",
       "      <td>NaN</td>\n",
       "      <td>NaN</td>\n",
       "      <td>NaN</td>\n",
       "      <td>NaN</td>\n",
       "      <td>NaN</td>\n",
       "      <td>NaN</td>\n",
       "    </tr>\n",
       "    <tr>\n",
       "      <th>medio</th>\n",
       "      <td>25</td>\n",
       "      <td>2</td>\n",
       "      <td>MED02</td>\n",
       "      <td>18</td>\n",
       "      <td>NaN</td>\n",
       "      <td>NaN</td>\n",
       "      <td>NaN</td>\n",
       "      <td>NaN</td>\n",
       "      <td>NaN</td>\n",
       "      <td>NaN</td>\n",
       "      <td>NaN</td>\n",
       "    </tr>\n",
       "    <tr>\n",
       "      <th>domicilio</th>\n",
       "      <td>23</td>\n",
       "      <td>23</td>\n",
       "      <td>El elejido</td>\n",
       "      <td>1</td>\n",
       "      <td>NaN</td>\n",
       "      <td>NaN</td>\n",
       "      <td>NaN</td>\n",
       "      <td>NaN</td>\n",
       "      <td>NaN</td>\n",
       "      <td>NaN</td>\n",
       "      <td>NaN</td>\n",
       "    </tr>\n",
       "    <tr>\n",
       "      <th>provincia</th>\n",
       "      <td>25.0</td>\n",
       "      <td>NaN</td>\n",
       "      <td>NaN</td>\n",
       "      <td>NaN</td>\n",
       "      <td>33.76</td>\n",
       "      <td>1.2</td>\n",
       "      <td>28.0</td>\n",
       "      <td>34.0</td>\n",
       "      <td>34.0</td>\n",
       "      <td>34.0</td>\n",
       "      <td>34.0</td>\n",
       "    </tr>\n",
       "    <tr>\n",
       "      <th>ciudad</th>\n",
       "      <td>25.0</td>\n",
       "      <td>NaN</td>\n",
       "      <td>NaN</td>\n",
       "      <td>NaN</td>\n",
       "      <td>226.28</td>\n",
       "      <td>11.017108</td>\n",
       "      <td>174.0</td>\n",
       "      <td>229.0</td>\n",
       "      <td>229.0</td>\n",
       "      <td>229.0</td>\n",
       "      <td>229.0</td>\n",
       "    </tr>\n",
       "    <tr>\n",
       "      <th>sector</th>\n",
       "      <td>25</td>\n",
       "      <td>6</td>\n",
       "      <td>UDOM05</td>\n",
       "      <td>12</td>\n",
       "      <td>NaN</td>\n",
       "      <td>NaN</td>\n",
       "      <td>NaN</td>\n",
       "      <td>NaN</td>\n",
       "      <td>NaN</td>\n",
       "      <td>NaN</td>\n",
       "      <td>NaN</td>\n",
       "    </tr>\n",
       "    <tr>\n",
       "      <th>nacionalidad</th>\n",
       "      <td>0.0</td>\n",
       "      <td>NaN</td>\n",
       "      <td>NaN</td>\n",
       "      <td>NaN</td>\n",
       "      <td>NaN</td>\n",
       "      <td>NaN</td>\n",
       "      <td>NaN</td>\n",
       "      <td>NaN</td>\n",
       "      <td>NaN</td>\n",
       "      <td>NaN</td>\n",
       "      <td>NaN</td>\n",
       "    </tr>\n",
       "    <tr>\n",
       "      <th>facebook</th>\n",
       "      <td>14</td>\n",
       "      <td>14</td>\n",
       "      <td>Bryan Enriquez</td>\n",
       "      <td>1</td>\n",
       "      <td>NaN</td>\n",
       "      <td>NaN</td>\n",
       "      <td>NaN</td>\n",
       "      <td>NaN</td>\n",
       "      <td>NaN</td>\n",
       "      <td>NaN</td>\n",
       "      <td>NaN</td>\n",
       "    </tr>\n",
       "    <tr>\n",
       "      <th>fecha_matricula</th>\n",
       "      <td>25</td>\n",
       "      <td>11</td>\n",
       "      <td>2023-03-04</td>\n",
       "      <td>6</td>\n",
       "      <td>NaN</td>\n",
       "      <td>NaN</td>\n",
       "      <td>NaN</td>\n",
       "      <td>NaN</td>\n",
       "      <td>NaN</td>\n",
       "      <td>NaN</td>\n",
       "      <td>NaN</td>\n",
       "    </tr>\n",
       "    <tr>\n",
       "      <th>estado</th>\n",
       "      <td>25</td>\n",
       "      <td>2</td>\n",
       "      <td>INSMAT05</td>\n",
       "      <td>15</td>\n",
       "      <td>NaN</td>\n",
       "      <td>NaN</td>\n",
       "      <td>NaN</td>\n",
       "      <td>NaN</td>\n",
       "      <td>NaN</td>\n",
       "      <td>NaN</td>\n",
       "      <td>NaN</td>\n",
       "    </tr>\n",
       "    <tr>\n",
       "      <th>nombre_curso</th>\n",
       "      <td>25</td>\n",
       "      <td>1</td>\n",
       "      <td>Enderezada y pintura automotriz</td>\n",
       "      <td>25</td>\n",
       "      <td>NaN</td>\n",
       "      <td>NaN</td>\n",
       "      <td>NaN</td>\n",
       "      <td>NaN</td>\n",
       "      <td>NaN</td>\n",
       "      <td>NaN</td>\n",
       "      <td>NaN</td>\n",
       "    </tr>\n",
       "  </tbody>\n",
       "</table>\n",
       "</div>"
      ],
      "text/plain": [
       "                    count unique                              top freq  \\\n",
       "nombres                25     25                   Jesy Alexander    1   \n",
       "apellidos              25     25                  Serrano Arteaga    1   \n",
       "documento_identidad  25.0    NaN                              NaN  NaN   \n",
       "estudios               25      4                          NIVEL04   12   \n",
       "ocupación              25      4                           CARG01   17   \n",
       "dirtrabajo             22     22           Machala y jorge piedra    1   \n",
       "ingresos               25      3                           INGR02   12   \n",
       "ultimocurso           0.0    NaN                              NaN  NaN   \n",
       "fecha_nacimiento       25     25                       1987-08-18    1   \n",
       "medio                  25      2                            MED02   18   \n",
       "domicilio              23     23                       El elejido    1   \n",
       "provincia            25.0    NaN                              NaN  NaN   \n",
       "ciudad               25.0    NaN                              NaN  NaN   \n",
       "sector                 25      6                           UDOM05   12   \n",
       "nacionalidad          0.0    NaN                              NaN  NaN   \n",
       "facebook               14     14                   Bryan Enriquez    1   \n",
       "fecha_matricula        25     11                       2023-03-04    6   \n",
       "estado                 25      2                         INSMAT05   15   \n",
       "nombre_curso           25      1  Enderezada y pintura automotriz   25   \n",
       "\n",
       "                              mean               std         min  \\\n",
       "nombres                        NaN               NaN         NaN   \n",
       "apellidos                      NaN               NaN         NaN   \n",
       "documento_identidad  1490538868.72  462089680.954222  20514724.0   \n",
       "estudios                       NaN               NaN         NaN   \n",
       "ocupación                      NaN               NaN         NaN   \n",
       "dirtrabajo                     NaN               NaN         NaN   \n",
       "ingresos                       NaN               NaN         NaN   \n",
       "ultimocurso                    NaN               NaN         NaN   \n",
       "fecha_nacimiento               NaN               NaN         NaN   \n",
       "medio                          NaN               NaN         NaN   \n",
       "domicilio                      NaN               NaN         NaN   \n",
       "provincia                    33.76               1.2        28.0   \n",
       "ciudad                      226.28         11.017108       174.0   \n",
       "sector                         NaN               NaN         NaN   \n",
       "nacionalidad                   NaN               NaN         NaN   \n",
       "facebook                       NaN               NaN         NaN   \n",
       "fecha_matricula                NaN               NaN         NaN   \n",
       "estado                         NaN               NaN         NaN   \n",
       "nombre_curso                   NaN               NaN         NaN   \n",
       "\n",
       "                              25%           50%           75%           max  \n",
       "nombres                       NaN           NaN           NaN           NaN  \n",
       "apellidos                     NaN           NaN           NaN           NaN  \n",
       "documento_identidad  1312483660.0  1717930588.0  1723297436.0  1759456781.0  \n",
       "estudios                      NaN           NaN           NaN           NaN  \n",
       "ocupación                     NaN           NaN           NaN           NaN  \n",
       "dirtrabajo                    NaN           NaN           NaN           NaN  \n",
       "ingresos                      NaN           NaN           NaN           NaN  \n",
       "ultimocurso                   NaN           NaN           NaN           NaN  \n",
       "fecha_nacimiento              NaN           NaN           NaN           NaN  \n",
       "medio                         NaN           NaN           NaN           NaN  \n",
       "domicilio                     NaN           NaN           NaN           NaN  \n",
       "provincia                    34.0          34.0          34.0          34.0  \n",
       "ciudad                      229.0         229.0         229.0         229.0  \n",
       "sector                        NaN           NaN           NaN           NaN  \n",
       "nacionalidad                  NaN           NaN           NaN           NaN  \n",
       "facebook                      NaN           NaN           NaN           NaN  \n",
       "fecha_matricula               NaN           NaN           NaN           NaN  \n",
       "estado                        NaN           NaN           NaN           NaN  \n",
       "nombre_curso                  NaN           NaN           NaN           NaN  "
      ]
     },
     "execution_count": 11,
     "metadata": {},
     "output_type": "execute_result"
    }
   ],
   "source": [
    "df.describe(include='all').T"
   ]
  },
  {
   "cell_type": "code",
   "execution_count": 12,
   "id": "eda04b40",
   "metadata": {},
   "outputs": [
    {
     "data": {
      "text/plain": [
       "nombres                 0\n",
       "apellidos               0\n",
       "documento_identidad     0\n",
       "estudios                0\n",
       "ocupación               0\n",
       "dirtrabajo              3\n",
       "ingresos                0\n",
       "ultimocurso            25\n",
       "fecha_nacimiento        0\n",
       "medio                   0\n",
       "domicilio               2\n",
       "provincia               0\n",
       "ciudad                  0\n",
       "sector                  0\n",
       "nacionalidad           25\n",
       "facebook               11\n",
       "fecha_matricula         0\n",
       "estado                  0\n",
       "nombre_curso            0\n",
       "dtype: int64"
      ]
     },
     "execution_count": 12,
     "metadata": {},
     "output_type": "execute_result"
    }
   ],
   "source": [
    "df.isna().sum()"
   ]
  },
  {
   "cell_type": "markdown",
   "id": "c96fb065",
   "metadata": {},
   "source": [
    "### 1.2 Rename of features in each column"
   ]
  },
  {
   "cell_type": "markdown",
   "id": "57b74144",
   "metadata": {},
   "source": [
    "**1.2.1 Estudios**"
   ]
  },
  {
   "cell_type": "code",
   "execution_count": 13,
   "id": "522b9b6b",
   "metadata": {},
   "outputs": [
    {
     "data": {
      "text/plain": [
       "Universidad    12\n",
       "Secundaria     10\n",
       "Maestria        2\n",
       "Primaria        1\n",
       "Name: estudios, dtype: int64"
      ]
     },
     "execution_count": 13,
     "metadata": {},
     "output_type": "execute_result"
    }
   ],
   "source": [
    "def_studies=['NIVEL01','NIVEL02','NIVEL03','NIVEL04','NIVEL05','NIVEL06','NIVEL07','NIVEL08']\n",
    "new_nstudies=['SinEstudios', 'Primaria', 'Secundaria', 'Universidad', 'Maestria', \n",
    "            'Doctorado', 'Tecnico', 'Tecnologia']\n",
    "df['estudios'].replace(def_studies,new_nstudies,inplace=True)\n",
    "df['estudios'].value_counts(dropna=False)"
   ]
  },
  {
   "cell_type": "code",
   "execution_count": 14,
   "id": "8bfe7e42",
   "metadata": {},
   "outputs": [],
   "source": [
    "df['estudios'].fillna(df['estudios'].mode()[0], inplace=True) #replacing NaN with mode"
   ]
  },
  {
   "cell_type": "markdown",
   "id": "3d419289",
   "metadata": {},
   "source": [
    "**1.2.2 Ciudadanía**"
   ]
  },
  {
   "cell_type": "code",
   "execution_count": 15,
   "id": "98f79195",
   "metadata": {},
   "outputs": [],
   "source": [
    "df['nacionalidad']='Ecuatoriano'"
   ]
  },
  {
   "cell_type": "markdown",
   "id": "bdb72352",
   "metadata": {},
   "source": [
    "**1.2.3 Medio de información**"
   ]
  },
  {
   "cell_type": "code",
   "execution_count": 16,
   "id": "b0d03b72",
   "metadata": {
    "scrolled": true
   },
   "outputs": [
    {
     "data": {
      "text/plain": [
       "Facebook     18\n",
       "PaginaWeb     7\n",
       "Name: medio, dtype: int64"
      ]
     },
     "execution_count": 16,
     "metadata": {},
     "output_type": "execute_result"
    }
   ],
   "source": [
    "name_med=['CursoEmpresarial', 'Facebook', 'PaginaWeb', 'Radio', 'Recomendacion','Whatsapp','Instagram']\n",
    "med_cod=['MED01','MED02','MED03','MED04','MED05','MED06','MED07']\n",
    "df['medio'].replace(med_cod,name_med,inplace=True)\n",
    "df['medio'].value_counts(dropna=False)"
   ]
  },
  {
   "cell_type": "code",
   "execution_count": 17,
   "id": "c5d74fc1",
   "metadata": {
    "scrolled": false
   },
   "outputs": [
    {
     "data": {
      "text/plain": [
       "0"
      ]
     },
     "execution_count": 17,
     "metadata": {},
     "output_type": "execute_result"
    }
   ],
   "source": [
    "df['medio'].isna().sum()"
   ]
  },
  {
   "cell_type": "code",
   "execution_count": 18,
   "id": "c3624c66",
   "metadata": {},
   "outputs": [],
   "source": [
    "df['medio'].fillna(df['medio'].mode()[0], inplace=True) #replacing NaN with mode"
   ]
  },
  {
   "cell_type": "code",
   "execution_count": 19,
   "id": "e702d355",
   "metadata": {},
   "outputs": [
    {
     "data": {
      "text/plain": [
       "Facebook     18\n",
       "PaginaWeb     7\n",
       "Name: medio, dtype: int64"
      ]
     },
     "execution_count": 19,
     "metadata": {},
     "output_type": "execute_result"
    }
   ],
   "source": [
    "df['medio'].value_counts(dropna=False)"
   ]
  },
  {
   "cell_type": "markdown",
   "id": "8aba3f1b",
   "metadata": {},
   "source": [
    "**1.2.4 Facebook**"
   ]
  },
  {
   "cell_type": "code",
   "execution_count": 20,
   "id": "b4045307",
   "metadata": {},
   "outputs": [
    {
     "data": {
      "text/plain": [
       "11                    Bryan Enriquez\n",
       "12                  tomura shigaraki\n",
       "13                     JAVIER OLMEDO\n",
       "14                   WILSON CARRANZA\n",
       "15                     Angel Jimenez\n",
       "16                              enki\n",
       "17                      edison taipe\n",
       "18                    fernando minda\n",
       "19                    wilson peralta\n",
       "20                          no tiene\n",
       "21                     edison coyago\n",
       "22                      pablo acurio\n",
       "23    servicio integrado automotriz \n",
       "24             jesus david villalobo\n",
       "Name: facebook, dtype: object"
      ]
     },
     "execution_count": 20,
     "metadata": {},
     "output_type": "execute_result"
    }
   ],
   "source": [
    "df['facebook'].dropna()"
   ]
  },
  {
   "cell_type": "markdown",
   "id": "89af6c95",
   "metadata": {},
   "source": [
    "**1.2.5 Cargo que ocupa**"
   ]
  },
  {
   "cell_type": "code",
   "execution_count": 21,
   "id": "55e8d9e9",
   "metadata": {},
   "outputs": [
    {
     "data": {
      "text/plain": [
       "Operativo    17\n",
       "Gerente       3\n",
       "JefeArea      3\n",
       "NoTrabaja     2\n",
       "Name: ocupación, dtype: int64"
      ]
     },
     "execution_count": 21,
     "metadata": {},
     "output_type": "execute_result"
    }
   ],
   "source": [
    "name_job=['Operativo', 'JefeArea', 'Gerente', 'NoTrabaja']\n",
    "job_cod=['CARG01','CARG02','CARG03','CARG04']\n",
    "df['ocupación'].replace(job_cod,name_job,inplace=True)\n",
    "df['ocupación'].value_counts(dropna=False)"
   ]
  },
  {
   "cell_type": "code",
   "execution_count": 22,
   "id": "d0f8ebcc",
   "metadata": {},
   "outputs": [],
   "source": [
    "df['ocupación'].fillna(df['ocupación'].mode()[0], inplace=True) #replacing NaN with mode"
   ]
  },
  {
   "cell_type": "markdown",
   "id": "01396957",
   "metadata": {},
   "source": [
    "**1.2.6 Ingresos mensuales**"
   ]
  },
  {
   "cell_type": "code",
   "execution_count": 23,
   "id": "cbc0200a",
   "metadata": {},
   "outputs": [
    {
     "data": {
      "text/plain": [
       "Entre421y800     12\n",
       "Entre100y420     12\n",
       "Entre801y1500     1\n",
       "Name: ingresos, dtype: int64"
      ]
     },
     "execution_count": 23,
     "metadata": {},
     "output_type": "execute_result"
    }
   ],
   "source": [
    "range_wages=['Entre100y420', 'Entre421y800', 'Entre801y1500', 'Mayor a 1500']\n",
    "wages_cod=['INGR01','INGR02','INGR03','INGR04']\n",
    "wages_av=[np.mean([100,420]),np.mean([421,800]),np.mean([801,1500]),2000]\n",
    "df['ingresos'].replace(wages_cod,range_wages,inplace=True)\n",
    "df['ingresos'].value_counts(dropna=False)"
   ]
  },
  {
   "cell_type": "code",
   "execution_count": 24,
   "id": "ccb2cef6",
   "metadata": {},
   "outputs": [],
   "source": [
    "df['ingresos'].fillna(df['ingresos'].mode()[0], inplace=True) #replacing NaN with mode"
   ]
  },
  {
   "cell_type": "code",
   "execution_count": 25,
   "id": "315552a7",
   "metadata": {},
   "outputs": [],
   "source": [
    "df['ingresos'].replace({'Entre100y420':np.mean([100,420]),\n",
    "                        'Entre421y800':np.mean([421,800]), \n",
    "                        'Entre801y1500':np.mean([801,1500]), \n",
    "                        'Mayor a 1500':2000},inplace=True)"
   ]
  },
  {
   "cell_type": "markdown",
   "id": "e8ec1857",
   "metadata": {},
   "source": [
    "**1.2.7 Último curso**"
   ]
  },
  {
   "cell_type": "code",
   "execution_count": 26,
   "id": "049ce9bd",
   "metadata": {},
   "outputs": [
    {
     "data": {
      "text/plain": [
       "NaN    25\n",
       "Name: ultimocurso, dtype: int64"
      ]
     },
     "execution_count": 26,
     "metadata": {},
     "output_type": "execute_result"
    }
   ],
   "source": [
    "df.ultimocurso.value_counts(dropna=False)"
   ]
  },
  {
   "cell_type": "markdown",
   "id": "6107b07e",
   "metadata": {},
   "source": [
    "**1.2.8 Sector**"
   ]
  },
  {
   "cell_type": "code",
   "execution_count": 27,
   "id": "468ec1da",
   "metadata": {},
   "outputs": [
    {
     "data": {
      "text/plain": [
       "SUR             12\n",
       "NORTE            4\n",
       "PERIFERIA        3\n",
       "CENTRO           3\n",
       "CENTRO-NORTE     2\n",
       "CENTRO-SUR       1\n",
       "Name: sector, dtype: int64"
      ]
     },
     "execution_count": 27,
     "metadata": {},
     "output_type": "execute_result"
    }
   ],
   "source": [
    "range_wages=['NORTE', 'CENTRO-NORTE', 'CENTRO-SUR', 'CENTRO','SUR','PERIFERIA']\n",
    "wages_cod=['UDOM01','UDOM02','UDOM03','UDOM04','UDOM05','UDOM06']\n",
    "df['sector'].replace(wages_cod,range_wages,inplace=True)\n",
    "df['sector'].value_counts(dropna=False)"
   ]
  },
  {
   "cell_type": "markdown",
   "id": "0beb32cf",
   "metadata": {},
   "source": [
    "**1.2.9 Estado matrícula**"
   ]
  },
  {
   "cell_type": "code",
   "execution_count": 28,
   "id": "88959f18",
   "metadata": {},
   "outputs": [
    {
     "data": {
      "text/plain": [
       "Culminado      15\n",
       "Matriculado    10\n",
       "Name: estado, dtype: int64"
      ]
     },
     "execution_count": 28,
     "metadata": {},
     "output_type": "execute_result"
    }
   ],
   "source": [
    "range_wages=['Inscrito', 'Matriculado', 'Desertado', 'Culminado']\n",
    "wages_cod=['INSMAT01','INSMAT02','INSMAT03','INSMAT05']\n",
    "df['estado'].replace(wages_cod,range_wages,inplace=True)\n",
    "df['estado'].value_counts(dropna=False)"
   ]
  },
  {
   "cell_type": "markdown",
   "id": "0e5de41c",
   "metadata": {},
   "source": [
    "**1.2.10 Documento identidad** reemplazado por provincia de nacimiento"
   ]
  },
  {
   "cell_type": "code",
   "execution_count": 29,
   "id": "07582874",
   "metadata": {},
   "outputs": [],
   "source": [
    "code_province={'01':'Azuay','02':'Bolívar','03':'Cañar','04':'Carchi','05':'Cotopaxi','06':'Chimborazo',\n",
    "'07':'El Oro','08':'Esmeraldas','09':'Guayas','10':'Imbabura','11':'Loja','12':'Los Rios','13':'Manabí',\n",
    "'14':'Morona Santiago','15':'Napo','16':'Pastaza','17':'Pichincha','18':'Tungurahua','19':'Zamora Chinchipe',\n",
    "'20':'Galápagos','21':'Sucumbios','22':'Orellana','23':'Santo Domingo de los Tsáchilas',\n",
    "'24':'Santa Elena','30':'Número reservado para ecuatorianos registrados en el exterior'}"
   ]
  },
  {
   "cell_type": "code",
   "execution_count": 30,
   "id": "7437ef0d",
   "metadata": {},
   "outputs": [],
   "source": [
    "list_index=df[df['documento_identidad']<1000000000].documento_identidad.index.tolist() #index about CI < 1000000000"
   ]
  },
  {
   "cell_type": "code",
   "execution_count": 31,
   "id": "d269ea68",
   "metadata": {},
   "outputs": [],
   "source": [
    "df['documento_identidad']=df['documento_identidad'].apply(str) #convert from int to string"
   ]
  },
  {
   "cell_type": "code",
   "execution_count": 32,
   "id": "c587c084",
   "metadata": {
    "scrolled": true
   },
   "outputs": [
    {
     "name": "stdout",
     "output_type": "stream",
     "text": [
      "<class 'pandas.core.frame.DataFrame'>\n",
      "RangeIndex: 25 entries, 0 to 24\n",
      "Data columns (total 19 columns):\n",
      " #   Column               Non-Null Count  Dtype  \n",
      "---  ------               --------------  -----  \n",
      " 0   nombres              25 non-null     object \n",
      " 1   apellidos            25 non-null     object \n",
      " 2   documento_identidad  25 non-null     object \n",
      " 3   estudios             25 non-null     object \n",
      " 4   ocupación            25 non-null     object \n",
      " 5   dirtrabajo           22 non-null     object \n",
      " 6   ingresos             25 non-null     float64\n",
      " 7   ultimocurso          0 non-null      float64\n",
      " 8   fecha_nacimiento     25 non-null     object \n",
      " 9   medio                25 non-null     object \n",
      " 10  domicilio            23 non-null     object \n",
      " 11  provincia            25 non-null     int64  \n",
      " 12  ciudad               25 non-null     int64  \n",
      " 13  sector               25 non-null     object \n",
      " 14  nacionalidad         25 non-null     object \n",
      " 15  facebook             14 non-null     object \n",
      " 16  fecha_matricula      25 non-null     object \n",
      " 17  estado               25 non-null     object \n",
      " 18  nombre_curso         25 non-null     object \n",
      "dtypes: float64(2), int64(2), object(15)\n",
      "memory usage: 3.8+ KB\n"
     ]
    }
   ],
   "source": [
    "df.info()"
   ]
  },
  {
   "cell_type": "code",
   "execution_count": 33,
   "id": "984885b0",
   "metadata": {},
   "outputs": [],
   "source": [
    "#df[len(df['documento_identidad'])<10]\n",
    "l1=[];j=0\n",
    "for i in df['documento_identidad']:\n",
    "    if len(i)==9:\n",
    "        #l1.append('0'+i[0:1])\n",
    "        cod='0'+i[0:1]\n",
    "        df['documento_identidad'].replace(i,cod,inplace=True)        \n",
    "    elif len(i)==8:\n",
    "        cod='0'+i[0:1]        \n",
    "        df['documento_identidad'].replace(i,cod,inplace=True) \n",
    "        #l1.append('0'+i[0:1])\n",
    "    elif len(i)>=10:\n",
    "        #df['documento_identidad'].iloc[i]=df['documento_identidad'].iloc[i][0:2]\n",
    "        df['documento_identidad'].replace(i,i[0:2],inplace=True)\n",
    "    j+=1        "
   ]
  },
  {
   "cell_type": "code",
   "execution_count": 34,
   "id": "f62ad76e",
   "metadata": {},
   "outputs": [],
   "source": [
    "df['documento_identidad'].replace(code_province,inplace=True)"
   ]
  },
  {
   "cell_type": "code",
   "execution_count": 35,
   "id": "85ba2239",
   "metadata": {},
   "outputs": [],
   "source": [
    "df['documento_identidad'].replace('81','Azuay',inplace=True) #exist one row with code 81"
   ]
  },
  {
   "cell_type": "code",
   "execution_count": 36,
   "id": "f21889a8",
   "metadata": {
    "scrolled": true
   },
   "outputs": [
    {
     "data": {
      "text/plain": [
       "Pichincha     18\n",
       "Manabí         2\n",
       "Los Rios       2\n",
       "Cotopaxi       1\n",
       "Chimborazo     1\n",
       "Bolívar        1\n",
       "Name: documento_identidad, dtype: int64"
      ]
     },
     "execution_count": 36,
     "metadata": {},
     "output_type": "execute_result"
    }
   ],
   "source": [
    "df['documento_identidad'].value_counts()"
   ]
  },
  {
   "cell_type": "code",
   "execution_count": 37,
   "id": "ce9cc693",
   "metadata": {},
   "outputs": [],
   "source": [
    "df.rename(columns={'documento_identidad':'provincia_nacimiento'},inplace=True)"
   ]
  },
  {
   "cell_type": "code",
   "execution_count": 38,
   "id": "e5abb9ef",
   "metadata": {},
   "outputs": [
    {
     "data": {
      "text/html": [
       "<div>\n",
       "<style scoped>\n",
       "    .dataframe tbody tr th:only-of-type {\n",
       "        vertical-align: middle;\n",
       "    }\n",
       "\n",
       "    .dataframe tbody tr th {\n",
       "        vertical-align: top;\n",
       "    }\n",
       "\n",
       "    .dataframe thead th {\n",
       "        text-align: right;\n",
       "    }\n",
       "</style>\n",
       "<table border=\"1\" class=\"dataframe\">\n",
       "  <thead>\n",
       "    <tr style=\"text-align: right;\">\n",
       "      <th></th>\n",
       "      <th>nombres</th>\n",
       "      <th>apellidos</th>\n",
       "      <th>provincia_nacimiento</th>\n",
       "      <th>estudios</th>\n",
       "      <th>ocupación</th>\n",
       "      <th>dirtrabajo</th>\n",
       "      <th>ingresos</th>\n",
       "      <th>ultimocurso</th>\n",
       "      <th>fecha_nacimiento</th>\n",
       "      <th>medio</th>\n",
       "      <th>domicilio</th>\n",
       "      <th>provincia</th>\n",
       "      <th>ciudad</th>\n",
       "      <th>sector</th>\n",
       "      <th>nacionalidad</th>\n",
       "      <th>facebook</th>\n",
       "      <th>fecha_matricula</th>\n",
       "      <th>estado</th>\n",
       "      <th>nombre_curso</th>\n",
       "    </tr>\n",
       "  </thead>\n",
       "  <tbody>\n",
       "    <tr>\n",
       "      <th>0</th>\n",
       "      <td>Jesy Alexander</td>\n",
       "      <td>Serrano Arteaga</td>\n",
       "      <td>Manabí</td>\n",
       "      <td>Maestria</td>\n",
       "      <td>Operativo</td>\n",
       "      <td>Machala y jorge piedra</td>\n",
       "      <td>610.5</td>\n",
       "      <td>NaN</td>\n",
       "      <td>1987-08-18</td>\n",
       "      <td>PaginaWeb</td>\n",
       "      <td>El elejido</td>\n",
       "      <td>34</td>\n",
       "      <td>229</td>\n",
       "      <td>SUR</td>\n",
       "      <td>Ecuatoriano</td>\n",
       "      <td>NaN</td>\n",
       "      <td>2022-05-10</td>\n",
       "      <td>Culminado</td>\n",
       "      <td>Enderezada y pintura automotriz</td>\n",
       "    </tr>\n",
       "    <tr>\n",
       "      <th>1</th>\n",
       "      <td>Carlos Daniel</td>\n",
       "      <td>Rivera Lopez</td>\n",
       "      <td>Cotopaxi</td>\n",
       "      <td>Universidad</td>\n",
       "      <td>Operativo</td>\n",
       "      <td>Sangolquí, Rancho Viejo</td>\n",
       "      <td>610.5</td>\n",
       "      <td>NaN</td>\n",
       "      <td>1981-04-23</td>\n",
       "      <td>PaginaWeb</td>\n",
       "      <td>Avenida Yolanda Medina. Salcedo</td>\n",
       "      <td>34</td>\n",
       "      <td>229</td>\n",
       "      <td>SUR</td>\n",
       "      <td>Ecuatoriano</td>\n",
       "      <td>NaN</td>\n",
       "      <td>2022-05-21</td>\n",
       "      <td>Culminado</td>\n",
       "      <td>Enderezada y pintura automotriz</td>\n",
       "    </tr>\n",
       "  </tbody>\n",
       "</table>\n",
       "</div>"
      ],
      "text/plain": [
       "          nombres        apellidos provincia_nacimiento     estudios  \\\n",
       "0  Jesy Alexander  Serrano Arteaga               Manabí     Maestria   \n",
       "1  Carlos Daniel      Rivera Lopez             Cotopaxi  Universidad   \n",
       "\n",
       "   ocupación               dirtrabajo  ingresos  ultimocurso fecha_nacimiento  \\\n",
       "0  Operativo   Machala y jorge piedra     610.5          NaN       1987-08-18   \n",
       "1  Operativo  Sangolquí, Rancho Viejo     610.5          NaN       1981-04-23   \n",
       "\n",
       "       medio                         domicilio  provincia  ciudad sector  \\\n",
       "0  PaginaWeb                        El elejido         34     229    SUR   \n",
       "1  PaginaWeb  Avenida Yolanda Medina. Salcedo          34     229    SUR   \n",
       "\n",
       "  nacionalidad facebook fecha_matricula     estado  \\\n",
       "0  Ecuatoriano      NaN      2022-05-10  Culminado   \n",
       "1  Ecuatoriano      NaN      2022-05-21  Culminado   \n",
       "\n",
       "                      nombre_curso  \n",
       "0  Enderezada y pintura automotriz  \n",
       "1  Enderezada y pintura automotriz  "
      ]
     },
     "execution_count": 38,
     "metadata": {},
     "output_type": "execute_result"
    }
   ],
   "source": [
    "df.head(2)"
   ]
  },
  {
   "cell_type": "markdown",
   "id": "edab4b72",
   "metadata": {},
   "source": [
    "**1.2.11 Provincia**"
   ]
  },
  {
   "cell_type": "code",
   "execution_count": 39,
   "id": "6a7ab6a7",
   "metadata": {},
   "outputs": [
    {
     "data": {
      "text/plain": [
       "34    24\n",
       "28     1\n",
       "Name: provincia, dtype: int64"
      ]
     },
     "execution_count": 39,
     "metadata": {},
     "output_type": "execute_result"
    }
   ],
   "source": [
    "df['provincia'].value_counts()"
   ]
  },
  {
   "cell_type": "code",
   "execution_count": 40,
   "id": "ca3b056c",
   "metadata": {},
   "outputs": [
    {
     "data": {
      "text/plain": [
       "Pichincha    24\n",
       "Los Ríos      1\n",
       "Name: provincia, dtype: int64"
      ]
     },
     "execution_count": 40,
     "metadata": {},
     "output_type": "execute_result"
    }
   ],
   "source": [
    "def_prov=[34,28]\n",
    "new_prov=['Pichincha', 'Los Ríos']\n",
    "df['provincia'].replace(def_prov,new_prov,inplace=True)\n",
    "df['provincia'].value_counts(dropna=False)"
   ]
  },
  {
   "cell_type": "markdown",
   "id": "9e5ddd2e",
   "metadata": {},
   "source": [
    "**1.2.12 Ciudad**"
   ]
  },
  {
   "cell_type": "code",
   "execution_count": 41,
   "id": "3731b907",
   "metadata": {},
   "outputs": [
    {
     "data": {
      "text/plain": [
       "229    21\n",
       "223     2\n",
       "174     1\n",
       "228     1\n",
       "Name: ciudad, dtype: int64"
      ]
     },
     "execution_count": 41,
     "metadata": {},
     "output_type": "execute_result"
    }
   ],
   "source": [
    "df['ciudad'].value_counts()"
   ]
  },
  {
   "cell_type": "code",
   "execution_count": 42,
   "id": "4fd68f2a",
   "metadata": {},
   "outputs": [
    {
     "data": {
      "text/plain": [
       "QUITO        21\n",
       "RUMIÑAHUI     2\n",
       "VENTANAS      1\n",
       "MEJIA         1\n",
       "Name: ciudad, dtype: int64"
      ]
     },
     "execution_count": 42,
     "metadata": {},
     "output_type": "execute_result"
    }
   ],
   "source": [
    "def_ciud=df['ciudad'].value_counts().index.tolist()\n",
    "new_ciud=['QUITO','RUMIÑAHUI','VENTANAS','MEJIA']\n",
    "df['ciudad'].replace(def_ciud,new_ciud,inplace=True)\n",
    "df['ciudad'].value_counts(dropna=False)"
   ]
  },
  {
   "cell_type": "code",
   "execution_count": 43,
   "id": "f00db214",
   "metadata": {},
   "outputs": [
    {
     "name": "stdout",
     "output_type": "stream",
     "text": [
      "<class 'pandas.core.frame.DataFrame'>\n",
      "RangeIndex: 25 entries, 0 to 24\n",
      "Data columns (total 19 columns):\n",
      " #   Column                Non-Null Count  Dtype  \n",
      "---  ------                --------------  -----  \n",
      " 0   nombres               25 non-null     object \n",
      " 1   apellidos             25 non-null     object \n",
      " 2   provincia_nacimiento  25 non-null     object \n",
      " 3   estudios              25 non-null     object \n",
      " 4   ocupación             25 non-null     object \n",
      " 5   dirtrabajo            22 non-null     object \n",
      " 6   ingresos              25 non-null     float64\n",
      " 7   ultimocurso           0 non-null      float64\n",
      " 8   fecha_nacimiento      25 non-null     object \n",
      " 9   medio                 25 non-null     object \n",
      " 10  domicilio             23 non-null     object \n",
      " 11  provincia             25 non-null     object \n",
      " 12  ciudad                25 non-null     object \n",
      " 13  sector                25 non-null     object \n",
      " 14  nacionalidad          25 non-null     object \n",
      " 15  facebook              14 non-null     object \n",
      " 16  fecha_matricula       25 non-null     object \n",
      " 17  estado                25 non-null     object \n",
      " 18  nombre_curso          25 non-null     object \n",
      "dtypes: float64(2), object(17)\n",
      "memory usage: 3.8+ KB\n"
     ]
    }
   ],
   "source": [
    "df.info()"
   ]
  },
  {
   "cell_type": "markdown",
   "id": "1a73fab5",
   "metadata": {},
   "source": [
    "**1.2.13 fecha_nacimiento**"
   ]
  },
  {
   "cell_type": "code",
   "execution_count": 44,
   "id": "7c8d4d07",
   "metadata": {},
   "outputs": [
    {
     "data": {
      "text/plain": [
       "0"
      ]
     },
     "execution_count": 44,
     "metadata": {},
     "output_type": "execute_result"
    }
   ],
   "source": [
    "df['fecha_nacimiento'].isna().sum()"
   ]
  },
  {
   "cell_type": "code",
   "execution_count": 45,
   "id": "43e62dec",
   "metadata": {},
   "outputs": [],
   "source": [
    "modebirth=df['fecha_nacimiento'].value_counts().index.tolist()[1] #In value counts this is the second mode most registered"
   ]
  },
  {
   "cell_type": "code",
   "execution_count": 46,
   "id": "8566561d",
   "metadata": {},
   "outputs": [],
   "source": [
    "df['fecha_nacimiento'].fillna(modebirth, inplace=True) #replacing NaN with mode\n",
    "df['fecha_nacimiento'].replace('0002-11-29 BC',modebirth,inplace=True)"
   ]
  },
  {
   "cell_type": "code",
   "execution_count": 47,
   "id": "8c956243",
   "metadata": {},
   "outputs": [
    {
     "data": {
      "text/plain": [
       "1987-08-18    1\n",
       "2001-06-19    1\n",
       "1979-05-23    1\n",
       "1989-07-29    1\n",
       "1988-04-13    1\n",
       "1975-01-15    1\n",
       "1985-07-25    1\n",
       "1998-03-04    1\n",
       "1986-02-02    1\n",
       "1993-02-18    1\n",
       "1986-08-13    1\n",
       "1989-09-13    1\n",
       "2001-12-07    1\n",
       "1981-04-23    1\n",
       "2004-03-31    1\n",
       "2022-10-01    1\n",
       "1995-10-01    1\n",
       "2002-10-01    1\n",
       "1983-01-10    1\n",
       "1992-10-17    1\n",
       "1991-07-05    1\n",
       "1980-03-21    1\n",
       "1981-09-08    1\n",
       "1996-11-01    1\n",
       "1993-04-12    1\n",
       "Name: fecha_nacimiento, dtype: int64"
      ]
     },
     "execution_count": 47,
     "metadata": {},
     "output_type": "execute_result"
    }
   ],
   "source": [
    "df['fecha_nacimiento'].value_counts()"
   ]
  },
  {
   "cell_type": "markdown",
   "id": "de79663c",
   "metadata": {},
   "source": [
    "**1.2.14 Domicilio**"
   ]
  },
  {
   "cell_type": "code",
   "execution_count": 48,
   "id": "5fff399b",
   "metadata": {},
   "outputs": [],
   "source": [
    "modedir=df['domicilio'].mode()[0]\n",
    "df['domicilio'].fillna(modedir, inplace=True) #replacing NaN with mode"
   ]
  },
  {
   "cell_type": "code",
   "execution_count": 49,
   "id": "3b639526",
   "metadata": {},
   "outputs": [
    {
     "data": {
      "text/plain": [
       "Avenida Yolanda Medina. Salcedo            3\n",
       "El elejido                                 1\n",
       "Ponciano                                   1\n",
       "Parque ingles                              1\n",
       "Monjas Madrigal                            1\n",
       "Pintag                                     1\n",
       "Santa Rosa                                 1\n",
       "Machachi                                   1\n",
       "Zapotal                                    1\n",
       "Guamani                                    1\n",
       "La ecuatoriana                             1\n",
       "Chillogallo                                1\n",
       "Tegucigalpa y Manuel Aguilar               1\n",
       "Solanda la isla                            1\n",
       "La Roldos                                  1\n",
       "las casas                                  1\n",
       "Centro historico                           1\n",
       "Santo Thomas Guamani                       1\n",
       "La Ferroviaria Alta                        1\n",
       "San Rafael valle de los chillos            1\n",
       "Esmeraldas y Manabí, Conocoto, casa #43    1\n",
       "Martha Buran cela Ibarra                   1\n",
       "San Carlos                                 1\n",
       "Name: domicilio, dtype: int64"
      ]
     },
     "execution_count": 49,
     "metadata": {},
     "output_type": "execute_result"
    }
   ],
   "source": [
    "df['domicilio'].value_counts(dropna=False)"
   ]
  },
  {
   "cell_type": "code",
   "execution_count": 50,
   "id": "ab8a2ad9",
   "metadata": {},
   "outputs": [
    {
     "name": "stdout",
     "output_type": "stream",
     "text": [
      "<class 'pandas.core.frame.DataFrame'>\n",
      "RangeIndex: 25 entries, 0 to 24\n",
      "Data columns (total 19 columns):\n",
      " #   Column                Non-Null Count  Dtype  \n",
      "---  ------                --------------  -----  \n",
      " 0   nombres               25 non-null     object \n",
      " 1   apellidos             25 non-null     object \n",
      " 2   provincia_nacimiento  25 non-null     object \n",
      " 3   estudios              25 non-null     object \n",
      " 4   ocupación             25 non-null     object \n",
      " 5   dirtrabajo            22 non-null     object \n",
      " 6   ingresos              25 non-null     float64\n",
      " 7   ultimocurso           0 non-null      float64\n",
      " 8   fecha_nacimiento      25 non-null     object \n",
      " 9   medio                 25 non-null     object \n",
      " 10  domicilio             25 non-null     object \n",
      " 11  provincia             25 non-null     object \n",
      " 12  ciudad                25 non-null     object \n",
      " 13  sector                25 non-null     object \n",
      " 14  nacionalidad          25 non-null     object \n",
      " 15  facebook              14 non-null     object \n",
      " 16  fecha_matricula       25 non-null     object \n",
      " 17  estado                25 non-null     object \n",
      " 18  nombre_curso          25 non-null     object \n",
      "dtypes: float64(2), object(17)\n",
      "memory usage: 3.8+ KB\n"
     ]
    }
   ],
   "source": [
    "df.info()"
   ]
  },
  {
   "cell_type": "code",
   "execution_count": 51,
   "id": "66b9eb32",
   "metadata": {},
   "outputs": [
    {
     "data": {
      "text/html": [
       "<div>\n",
       "<style scoped>\n",
       "    .dataframe tbody tr th:only-of-type {\n",
       "        vertical-align: middle;\n",
       "    }\n",
       "\n",
       "    .dataframe tbody tr th {\n",
       "        vertical-align: top;\n",
       "    }\n",
       "\n",
       "    .dataframe thead th {\n",
       "        text-align: right;\n",
       "    }\n",
       "</style>\n",
       "<table border=\"1\" class=\"dataframe\">\n",
       "  <thead>\n",
       "    <tr style=\"text-align: right;\">\n",
       "      <th></th>\n",
       "      <th>nombres</th>\n",
       "      <th>apellidos</th>\n",
       "      <th>provincia_nacimiento</th>\n",
       "      <th>estudios</th>\n",
       "      <th>ocupación</th>\n",
       "      <th>dirtrabajo</th>\n",
       "      <th>ingresos</th>\n",
       "      <th>ultimocurso</th>\n",
       "      <th>fecha_nacimiento</th>\n",
       "      <th>medio</th>\n",
       "      <th>domicilio</th>\n",
       "      <th>provincia</th>\n",
       "      <th>ciudad</th>\n",
       "      <th>sector</th>\n",
       "      <th>nacionalidad</th>\n",
       "      <th>facebook</th>\n",
       "      <th>fecha_matricula</th>\n",
       "      <th>estado</th>\n",
       "      <th>nombre_curso</th>\n",
       "    </tr>\n",
       "  </thead>\n",
       "  <tbody>\n",
       "    <tr>\n",
       "      <th>0</th>\n",
       "      <td>Jesy Alexander</td>\n",
       "      <td>Serrano Arteaga</td>\n",
       "      <td>Manabí</td>\n",
       "      <td>Maestria</td>\n",
       "      <td>Operativo</td>\n",
       "      <td>Machala y jorge piedra</td>\n",
       "      <td>610.5</td>\n",
       "      <td>NaN</td>\n",
       "      <td>1987-08-18</td>\n",
       "      <td>PaginaWeb</td>\n",
       "      <td>El elejido</td>\n",
       "      <td>Pichincha</td>\n",
       "      <td>QUITO</td>\n",
       "      <td>SUR</td>\n",
       "      <td>Ecuatoriano</td>\n",
       "      <td>NaN</td>\n",
       "      <td>2022-05-10</td>\n",
       "      <td>Culminado</td>\n",
       "      <td>Enderezada y pintura automotriz</td>\n",
       "    </tr>\n",
       "    <tr>\n",
       "      <th>1</th>\n",
       "      <td>Carlos Daniel</td>\n",
       "      <td>Rivera Lopez</td>\n",
       "      <td>Cotopaxi</td>\n",
       "      <td>Universidad</td>\n",
       "      <td>Operativo</td>\n",
       "      <td>Sangolquí, Rancho Viejo</td>\n",
       "      <td>610.5</td>\n",
       "      <td>NaN</td>\n",
       "      <td>1981-04-23</td>\n",
       "      <td>PaginaWeb</td>\n",
       "      <td>Avenida Yolanda Medina. Salcedo</td>\n",
       "      <td>Pichincha</td>\n",
       "      <td>QUITO</td>\n",
       "      <td>SUR</td>\n",
       "      <td>Ecuatoriano</td>\n",
       "      <td>NaN</td>\n",
       "      <td>2022-05-21</td>\n",
       "      <td>Culminado</td>\n",
       "      <td>Enderezada y pintura automotriz</td>\n",
       "    </tr>\n",
       "  </tbody>\n",
       "</table>\n",
       "</div>"
      ],
      "text/plain": [
       "          nombres        apellidos provincia_nacimiento     estudios  \\\n",
       "0  Jesy Alexander  Serrano Arteaga               Manabí     Maestria   \n",
       "1  Carlos Daniel      Rivera Lopez             Cotopaxi  Universidad   \n",
       "\n",
       "   ocupación               dirtrabajo  ingresos  ultimocurso fecha_nacimiento  \\\n",
       "0  Operativo   Machala y jorge piedra     610.5          NaN       1987-08-18   \n",
       "1  Operativo  Sangolquí, Rancho Viejo     610.5          NaN       1981-04-23   \n",
       "\n",
       "       medio                         domicilio  provincia ciudad sector  \\\n",
       "0  PaginaWeb                        El elejido  Pichincha  QUITO    SUR   \n",
       "1  PaginaWeb  Avenida Yolanda Medina. Salcedo   Pichincha  QUITO    SUR   \n",
       "\n",
       "  nacionalidad facebook fecha_matricula     estado  \\\n",
       "0  Ecuatoriano      NaN      2022-05-10  Culminado   \n",
       "1  Ecuatoriano      NaN      2022-05-21  Culminado   \n",
       "\n",
       "                      nombre_curso  \n",
       "0  Enderezada y pintura automotriz  \n",
       "1  Enderezada y pintura automotriz  "
      ]
     },
     "execution_count": 51,
     "metadata": {},
     "output_type": "execute_result"
    }
   ],
   "source": [
    "df.head(2)"
   ]
  },
  {
   "cell_type": "markdown",
   "id": "9d1c88c5",
   "metadata": {},
   "source": [
    "**1.2.15 edad**"
   ]
  },
  {
   "cell_type": "code",
   "execution_count": 52,
   "id": "7ba50d98",
   "metadata": {
    "scrolled": true
   },
   "outputs": [
    {
     "data": {
      "text/html": [
       "<div>\n",
       "<style scoped>\n",
       "    .dataframe tbody tr th:only-of-type {\n",
       "        vertical-align: middle;\n",
       "    }\n",
       "\n",
       "    .dataframe tbody tr th {\n",
       "        vertical-align: top;\n",
       "    }\n",
       "\n",
       "    .dataframe thead th {\n",
       "        text-align: right;\n",
       "    }\n",
       "</style>\n",
       "<table border=\"1\" class=\"dataframe\">\n",
       "  <thead>\n",
       "    <tr style=\"text-align: right;\">\n",
       "      <th></th>\n",
       "      <th>nombres</th>\n",
       "      <th>apellidos</th>\n",
       "      <th>provincia_nacimiento</th>\n",
       "      <th>estudios</th>\n",
       "      <th>ocupación</th>\n",
       "      <th>dirtrabajo</th>\n",
       "      <th>ingresos</th>\n",
       "      <th>ultimocurso</th>\n",
       "      <th>fecha_nacimiento</th>\n",
       "      <th>medio</th>\n",
       "      <th>domicilio</th>\n",
       "      <th>provincia</th>\n",
       "      <th>ciudad</th>\n",
       "      <th>sector</th>\n",
       "      <th>nacionalidad</th>\n",
       "      <th>facebook</th>\n",
       "      <th>fecha_matricula</th>\n",
       "      <th>estado</th>\n",
       "      <th>nombre_curso</th>\n",
       "      <th>edad</th>\n",
       "    </tr>\n",
       "  </thead>\n",
       "  <tbody>\n",
       "    <tr>\n",
       "      <th>0</th>\n",
       "      <td>Jesy Alexander</td>\n",
       "      <td>Serrano Arteaga</td>\n",
       "      <td>Manabí</td>\n",
       "      <td>Maestria</td>\n",
       "      <td>Operativo</td>\n",
       "      <td>Machala y jorge piedra</td>\n",
       "      <td>610.5</td>\n",
       "      <td>NaN</td>\n",
       "      <td>1987-08-18</td>\n",
       "      <td>PaginaWeb</td>\n",
       "      <td>El elejido</td>\n",
       "      <td>Pichincha</td>\n",
       "      <td>QUITO</td>\n",
       "      <td>SUR</td>\n",
       "      <td>Ecuatoriano</td>\n",
       "      <td>NaN</td>\n",
       "      <td>2022-05-10</td>\n",
       "      <td>Culminado</td>\n",
       "      <td>Enderezada y pintura automotriz</td>\n",
       "      <td>36</td>\n",
       "    </tr>\n",
       "    <tr>\n",
       "      <th>1</th>\n",
       "      <td>Carlos Daniel</td>\n",
       "      <td>Rivera Lopez</td>\n",
       "      <td>Cotopaxi</td>\n",
       "      <td>Universidad</td>\n",
       "      <td>Operativo</td>\n",
       "      <td>Sangolquí, Rancho Viejo</td>\n",
       "      <td>610.5</td>\n",
       "      <td>NaN</td>\n",
       "      <td>1981-04-23</td>\n",
       "      <td>PaginaWeb</td>\n",
       "      <td>Avenida Yolanda Medina. Salcedo</td>\n",
       "      <td>Pichincha</td>\n",
       "      <td>QUITO</td>\n",
       "      <td>SUR</td>\n",
       "      <td>Ecuatoriano</td>\n",
       "      <td>NaN</td>\n",
       "      <td>2022-05-21</td>\n",
       "      <td>Culminado</td>\n",
       "      <td>Enderezada y pintura automotriz</td>\n",
       "      <td>42</td>\n",
       "    </tr>\n",
       "    <tr>\n",
       "      <th>2</th>\n",
       "      <td>Bryan Ariel</td>\n",
       "      <td>Silva Ramirez</td>\n",
       "      <td>Pichincha</td>\n",
       "      <td>Universidad</td>\n",
       "      <td>NoTrabaja</td>\n",
       "      <td>Martha bucaran</td>\n",
       "      <td>260.0</td>\n",
       "      <td>NaN</td>\n",
       "      <td>1996-11-01</td>\n",
       "      <td>Facebook</td>\n",
       "      <td>Martha Buran cela Ibarra</td>\n",
       "      <td>Pichincha</td>\n",
       "      <td>QUITO</td>\n",
       "      <td>SUR</td>\n",
       "      <td>Ecuatoriano</td>\n",
       "      <td>NaN</td>\n",
       "      <td>2022-05-21</td>\n",
       "      <td>Culminado</td>\n",
       "      <td>Enderezada y pintura automotriz</td>\n",
       "      <td>27</td>\n",
       "    </tr>\n",
       "  </tbody>\n",
       "</table>\n",
       "</div>"
      ],
      "text/plain": [
       "          nombres        apellidos provincia_nacimiento     estudios  \\\n",
       "0  Jesy Alexander  Serrano Arteaga               Manabí     Maestria   \n",
       "1  Carlos Daniel      Rivera Lopez             Cotopaxi  Universidad   \n",
       "2    Bryan Ariel    Silva Ramirez             Pichincha  Universidad   \n",
       "\n",
       "   ocupación               dirtrabajo  ingresos  ultimocurso fecha_nacimiento  \\\n",
       "0  Operativo   Machala y jorge piedra     610.5          NaN       1987-08-18   \n",
       "1  Operativo  Sangolquí, Rancho Viejo     610.5          NaN       1981-04-23   \n",
       "2  NoTrabaja          Martha bucaran      260.0          NaN       1996-11-01   \n",
       "\n",
       "       medio                         domicilio  provincia ciudad sector  \\\n",
       "0  PaginaWeb                        El elejido  Pichincha  QUITO    SUR   \n",
       "1  PaginaWeb  Avenida Yolanda Medina. Salcedo   Pichincha  QUITO    SUR   \n",
       "2   Facebook         Martha Buran cela Ibarra   Pichincha  QUITO    SUR   \n",
       "\n",
       "  nacionalidad facebook fecha_matricula     estado  \\\n",
       "0  Ecuatoriano      NaN      2022-05-10  Culminado   \n",
       "1  Ecuatoriano      NaN      2022-05-21  Culminado   \n",
       "2  Ecuatoriano      NaN      2022-05-21  Culminado   \n",
       "\n",
       "                      nombre_curso  edad  \n",
       "0  Enderezada y pintura automotriz    36  \n",
       "1  Enderezada y pintura automotriz    42  \n",
       "2  Enderezada y pintura automotriz    27  "
      ]
     },
     "execution_count": 52,
     "metadata": {},
     "output_type": "execute_result"
    }
   ],
   "source": [
    "#import pandas as pd\n",
    "from datetime import date\n",
    "\n",
    "# convert the column of dates to datetime objects\n",
    "df['fecha_nacimiento'] = pd.to_datetime(df['fecha_nacimiento'])\n",
    "\n",
    "# calculate the age based on the current date\n",
    "today = date.today()\n",
    "today\n",
    "df['edad'] = (today.year - df['fecha_nacimiento'].dt.year)#-((today.month, today.day) < (df['fecha_nacimiento'].dt.month,df['fecha_nacimiento'].dt.day))\n",
    "\n",
    "# print the DataFrame with the calculated ages\n",
    "df.head(3)"
   ]
  },
  {
   "cell_type": "markdown",
   "id": "50987226",
   "metadata": {},
   "source": [
    "## 2) EDA: Exploratory Data Analysis"
   ]
  },
  {
   "cell_type": "code",
   "execution_count": 192,
   "id": "4b2085db",
   "metadata": {},
   "outputs": [
    {
     "data": {
      "text/plain": [
       "count      25.000000\n",
       "mean      463.860000\n",
       "std       226.220832\n",
       "min       260.000000\n",
       "25%       260.000000\n",
       "50%       610.500000\n",
       "75%       610.500000\n",
       "max      1150.500000\n",
       "Name: ingresos, dtype: float64"
      ]
     },
     "execution_count": 192,
     "metadata": {},
     "output_type": "execute_result"
    }
   ],
   "source": [
    "df['ingresos'].describe()"
   ]
  },
  {
   "cell_type": "code",
   "execution_count": 190,
   "id": "d139c85d",
   "metadata": {},
   "outputs": [
    {
     "data": {
      "image/png": "[encoded data removed]",
      "text/plain": [
       "<Figure size 576x396 with 1 Axes>"
      ]
     },
     "metadata": {},
     "output_type": "display_data"
    }
   ],
   "source": [
    "plt.hist(df['ingresos']);"
   ]
  },
  {
   "cell_type": "code",
   "execution_count": 194,
   "id": "f287cca0",
   "metadata": {},
   "outputs": [
    {
     "data": {
      "image/png": "[encoded data removed]",
      "text/plain": [
       "<Figure size 576x396 with 1 Axes>"
      ]
     },
     "metadata": {},
     "output_type": "display_data"
    }
   ],
   "source": [
    "plt.boxplot(df['ingresos']);"
   ]
  },
  {
   "cell_type": "code",
   "execution_count": 195,
   "id": "a17b4433",
   "metadata": {},
   "outputs": [],
   "source": [
    "df['ingresos'].replace(to_replace=1150.50,value=df.ingresos.mean(),inplace=True)"
   ]
  },
  {
   "cell_type": "code",
   "execution_count": 196,
   "id": "b7692238",
   "metadata": {},
   "outputs": [
    {
     "data": {
      "text/plain": [
       "count     25.000000\n",
       "mean     436.394400\n",
       "std      175.343388\n",
       "min      260.000000\n",
       "25%      260.000000\n",
       "50%      463.860000\n",
       "75%      610.500000\n",
       "max      610.500000\n",
       "Name: ingresos, dtype: float64"
      ]
     },
     "execution_count": 196,
     "metadata": {},
     "output_type": "execute_result"
    }
   ],
   "source": [
    "df['ingresos'].describe()"
   ]
  },
  {
   "cell_type": "code",
   "execution_count": 182,
   "id": "8b16b1f9",
   "metadata": {},
   "outputs": [
    {
     "data": {
      "image/png": "[encoded data removed]",
      "text/plain": [
       "<Figure size 576x396 with 1 Axes>"
      ]
     },
     "metadata": {},
     "output_type": "display_data"
    }
   ],
   "source": [
    "plt.hist(df['edad'],bins=12);"
   ]
  },
  {
   "cell_type": "code",
   "execution_count": 185,
   "id": "6cc587f6",
   "metadata": {},
   "outputs": [
    {
     "data": {
      "text/html": [
       "<div>\n",
       "<style scoped>\n",
       "    .dataframe tbody tr th:only-of-type {\n",
       "        vertical-align: middle;\n",
       "    }\n",
       "\n",
       "    .dataframe tbody tr th {\n",
       "        vertical-align: top;\n",
       "    }\n",
       "\n",
       "    .dataframe thead th {\n",
       "        text-align: right;\n",
       "    }\n",
       "</style>\n",
       "<table border=\"1\" class=\"dataframe\">\n",
       "  <thead>\n",
       "    <tr style=\"text-align: right;\">\n",
       "      <th></th>\n",
       "      <th>nombres</th>\n",
       "      <th>apellidos</th>\n",
       "      <th>provincia_nacimiento</th>\n",
       "      <th>estudios</th>\n",
       "      <th>ocupación</th>\n",
       "      <th>dirtrabajo</th>\n",
       "      <th>ingresos</th>\n",
       "      <th>ultimocurso</th>\n",
       "      <th>fecha_nacimiento</th>\n",
       "      <th>medio</th>\n",
       "      <th>domicilio</th>\n",
       "      <th>provincia</th>\n",
       "      <th>ciudad</th>\n",
       "      <th>sector</th>\n",
       "      <th>nacionalidad</th>\n",
       "      <th>facebook</th>\n",
       "      <th>fecha_matricula</th>\n",
       "      <th>estado</th>\n",
       "      <th>nombre_curso</th>\n",
       "      <th>edad</th>\n",
       "    </tr>\n",
       "  </thead>\n",
       "  <tbody>\n",
       "    <tr>\n",
       "      <th>10</th>\n",
       "      <td>ESTALIN RAMIRO</td>\n",
       "      <td>CARRERA PADILLA</td>\n",
       "      <td>Pichincha</td>\n",
       "      <td>Universidad</td>\n",
       "      <td>Operativo</td>\n",
       "      <td>NaN</td>\n",
       "      <td>610.5</td>\n",
       "      <td>NaN</td>\n",
       "      <td>2022-10-01</td>\n",
       "      <td>Facebook</td>\n",
       "      <td>Avenida Yolanda Medina. Salcedo</td>\n",
       "      <td>Pichincha</td>\n",
       "      <td>QUITO</td>\n",
       "      <td>CENTRO-SUR</td>\n",
       "      <td>Ecuatoriano</td>\n",
       "      <td>NaN</td>\n",
       "      <td>2022-10-29</td>\n",
       "      <td>Culminado</td>\n",
       "      <td>Enderezada y pintura automotriz</td>\n",
       "      <td>1</td>\n",
       "    </tr>\n",
       "  </tbody>\n",
       "</table>\n",
       "</div>"
      ],
      "text/plain": [
       "           nombres        apellidos provincia_nacimiento     estudios  \\\n",
       "10  ESTALIN RAMIRO  CARRERA PADILLA            Pichincha  Universidad   \n",
       "\n",
       "    ocupación dirtrabajo  ingresos  ultimocurso fecha_nacimiento     medio  \\\n",
       "10  Operativo        NaN     610.5          NaN       2022-10-01  Facebook   \n",
       "\n",
       "                           domicilio  provincia ciudad      sector  \\\n",
       "10  Avenida Yolanda Medina. Salcedo   Pichincha  QUITO  CENTRO-SUR   \n",
       "\n",
       "   nacionalidad facebook fecha_matricula     estado  \\\n",
       "10  Ecuatoriano      NaN      2022-10-29  Culminado   \n",
       "\n",
       "                       nombre_curso  edad  \n",
       "10  Enderezada y pintura automotriz     1  "
      ]
     },
     "execution_count": 185,
     "metadata": {},
     "output_type": "execute_result"
    }
   ],
   "source": [
    "df[df['edad']<10]"
   ]
  },
  {
   "cell_type": "markdown",
   "id": "b94fecce",
   "metadata": {},
   "source": [
    "We have an outlier about an age of 1. So, we will replace that outlier with average age."
   ]
  },
  {
   "cell_type": "code",
   "execution_count": 188,
   "id": "cc96ae73",
   "metadata": {},
   "outputs": [],
   "source": [
    "df['edad'].replace(to_replace=1,value=df.edad.mean(),inplace=True)"
   ]
  },
  {
   "cell_type": "code",
   "execution_count": 189,
   "id": "41bffe7e",
   "metadata": {},
   "outputs": [
    {
     "data": {
      "text/html": [
       "<div>\n",
       "<style scoped>\n",
       "    .dataframe tbody tr th:only-of-type {\n",
       "        vertical-align: middle;\n",
       "    }\n",
       "\n",
       "    .dataframe tbody tr th {\n",
       "        vertical-align: top;\n",
       "    }\n",
       "\n",
       "    .dataframe thead th {\n",
       "        text-align: right;\n",
       "    }\n",
       "</style>\n",
       "<table border=\"1\" class=\"dataframe\">\n",
       "  <thead>\n",
       "    <tr style=\"text-align: right;\">\n",
       "      <th></th>\n",
       "      <th>nombres</th>\n",
       "      <th>apellidos</th>\n",
       "      <th>provincia_nacimiento</th>\n",
       "      <th>estudios</th>\n",
       "      <th>ocupación</th>\n",
       "      <th>dirtrabajo</th>\n",
       "      <th>ingresos</th>\n",
       "      <th>ultimocurso</th>\n",
       "      <th>fecha_nacimiento</th>\n",
       "      <th>medio</th>\n",
       "      <th>domicilio</th>\n",
       "      <th>provincia</th>\n",
       "      <th>ciudad</th>\n",
       "      <th>sector</th>\n",
       "      <th>nacionalidad</th>\n",
       "      <th>facebook</th>\n",
       "      <th>fecha_matricula</th>\n",
       "      <th>estado</th>\n",
       "      <th>nombre_curso</th>\n",
       "      <th>edad</th>\n",
       "    </tr>\n",
       "  </thead>\n",
       "  <tbody>\n",
       "  </tbody>\n",
       "</table>\n",
       "</div>"
      ],
      "text/plain": [
       "Empty DataFrame\n",
       "Columns: [nombres, apellidos, provincia_nacimiento, estudios, ocupación, dirtrabajo, ingresos, ultimocurso, fecha_nacimiento, medio, domicilio, provincia, ciudad, sector, nacionalidad, facebook, fecha_matricula, estado, nombre_curso, edad]\n",
       "Index: []"
      ]
     },
     "execution_count": 189,
     "metadata": {},
     "output_type": "execute_result"
    }
   ],
   "source": [
    "df[df['edad']<10]"
   ]
  },
  {
   "cell_type": "code",
   "execution_count": 55,
   "id": "176defe3",
   "metadata": {},
   "outputs": [
    {
     "data": {
      "image/png": "[encoded data removed]",
      "text/plain": [
       "<Figure size 432x288 with 1 Axes>"
      ]
     },
     "metadata": {
      "needs_background": "light"
     },
     "output_type": "display_data"
    }
   ],
   "source": [
    "sns.countplot(x=df['ingresos']);"
   ]
  },
  {
   "cell_type": "code",
   "execution_count": 56,
   "id": "200403f0",
   "metadata": {},
   "outputs": [
    {
     "data": {
      "image/png": "[encoded data removed]",
      "text/plain": [
       "<Figure size 432x288 with 1 Axes>"
      ]
     },
     "metadata": {
      "needs_background": "light"
     },
     "output_type": "display_data"
    }
   ],
   "source": [
    "sns.countplot(x=df['ocupación']);"
   ]
  },
  {
   "cell_type": "code",
   "execution_count": 57,
   "id": "ae5cc000",
   "metadata": {},
   "outputs": [
    {
     "data": {
      "image/png": "[encoded data removed]",
      "text/plain": [
       "<Figure size 720x288 with 1 Axes>"
      ]
     },
     "metadata": {
      "needs_background": "light"
     },
     "output_type": "display_data"
    }
   ],
   "source": [
    "plt.figure(figsize=(10,4))\n",
    "sns.countplot(x=df['sector']);"
   ]
  },
  {
   "cell_type": "code",
   "execution_count": 58,
   "id": "e32315a3",
   "metadata": {},
   "outputs": [
    {
     "data": {
      "image/png": "[encoded data removed]",
      "text/plain": [
       "<Figure size 432x288 with 1 Axes>"
      ]
     },
     "metadata": {
      "needs_background": "light"
     },
     "output_type": "display_data"
    }
   ],
   "source": [
    "sns.countplot(x=df['provincia']);"
   ]
  },
  {
   "cell_type": "code",
   "execution_count": 59,
   "id": "685ea379",
   "metadata": {},
   "outputs": [
    {
     "data": {
      "image/png": "[encoded data removed]",
      "text/plain": [
       "<Figure size 432x288 with 1 Axes>"
      ]
     },
     "metadata": {
      "needs_background": "light"
     },
     "output_type": "display_data"
    }
   ],
   "source": [
    "sns.countplot(x=df['ciudad']);"
   ]
  },
  {
   "cell_type": "code",
   "execution_count": 60,
   "id": "3e7fe1c7",
   "metadata": {},
   "outputs": [
    {
     "data": {
      "image/png": "[encoded data removed]",
      "text/plain": [
       "<Figure size 432x288 with 1 Axes>"
      ]
     },
     "metadata": {
      "needs_background": "light"
     },
     "output_type": "display_data"
    }
   ],
   "source": [
    "sns.countplot(x=df['estudios']);"
   ]
  },
  {
   "cell_type": "code",
   "execution_count": 61,
   "id": "022dce6c",
   "metadata": {},
   "outputs": [
    {
     "data": {
      "text/html": [
       "<div>\n",
       "<style scoped>\n",
       "    .dataframe tbody tr th:only-of-type {\n",
       "        vertical-align: middle;\n",
       "    }\n",
       "\n",
       "    .dataframe tbody tr th {\n",
       "        vertical-align: top;\n",
       "    }\n",
       "\n",
       "    .dataframe thead th {\n",
       "        text-align: right;\n",
       "    }\n",
       "</style>\n",
       "<table border=\"1\" class=\"dataframe\">\n",
       "  <thead>\n",
       "    <tr style=\"text-align: right;\">\n",
       "      <th></th>\n",
       "      <th>nombres</th>\n",
       "      <th>apellidos</th>\n",
       "      <th>provincia_nacimiento</th>\n",
       "      <th>estudios</th>\n",
       "      <th>ocupación</th>\n",
       "      <th>dirtrabajo</th>\n",
       "      <th>ingresos</th>\n",
       "      <th>ultimocurso</th>\n",
       "      <th>fecha_nacimiento</th>\n",
       "      <th>medio</th>\n",
       "      <th>domicilio</th>\n",
       "      <th>provincia</th>\n",
       "      <th>ciudad</th>\n",
       "      <th>sector</th>\n",
       "      <th>nacionalidad</th>\n",
       "      <th>facebook</th>\n",
       "      <th>fecha_matricula</th>\n",
       "      <th>estado</th>\n",
       "      <th>nombre_curso</th>\n",
       "      <th>edad</th>\n",
       "    </tr>\n",
       "  </thead>\n",
       "  <tbody>\n",
       "    <tr>\n",
       "      <th>4</th>\n",
       "      <td>José Luis</td>\n",
       "      <td>Castro Parrales</td>\n",
       "      <td>Pichincha</td>\n",
       "      <td>Universidad</td>\n",
       "      <td>Gerente</td>\n",
       "      <td>Triángulo Av general Enríquez</td>\n",
       "      <td>1150.5</td>\n",
       "      <td>NaN</td>\n",
       "      <td>1980-03-21</td>\n",
       "      <td>Facebook</td>\n",
       "      <td>San Rafael valle de los chillos</td>\n",
       "      <td>Pichincha</td>\n",
       "      <td>RUMIÑAHUI</td>\n",
       "      <td>PERIFERIA</td>\n",
       "      <td>Ecuatoriano</td>\n",
       "      <td>NaN</td>\n",
       "      <td>2022-08-26</td>\n",
       "      <td>Culminado</td>\n",
       "      <td>Enderezada y pintura automotriz</td>\n",
       "      <td>43</td>\n",
       "    </tr>\n",
       "    <tr>\n",
       "      <th>21</th>\n",
       "      <td>EDISON PATRICIO</td>\n",
       "      <td>COYAGO LLULLUNA</td>\n",
       "      <td>Pichincha</td>\n",
       "      <td>Secundaria</td>\n",
       "      <td>Operativo</td>\n",
       "      <td>Via amaguania</td>\n",
       "      <td>260.0</td>\n",
       "      <td>NaN</td>\n",
       "      <td>1988-04-13</td>\n",
       "      <td>Facebook</td>\n",
       "      <td>Pintag</td>\n",
       "      <td>Pichincha</td>\n",
       "      <td>RUMIÑAHUI</td>\n",
       "      <td>CENTRO</td>\n",
       "      <td>Ecuatoriano</td>\n",
       "      <td>edison coyago</td>\n",
       "      <td>2023-03-04</td>\n",
       "      <td>Matriculado</td>\n",
       "      <td>Enderezada y pintura automotriz</td>\n",
       "      <td>35</td>\n",
       "    </tr>\n",
       "  </tbody>\n",
       "</table>\n",
       "</div>"
      ],
      "text/plain": [
       "            nombres        apellidos provincia_nacimiento     estudios  \\\n",
       "4        José Luis   Castro Parrales            Pichincha  Universidad   \n",
       "21  EDISON PATRICIO  COYAGO LLULLUNA            Pichincha   Secundaria   \n",
       "\n",
       "    ocupación                      dirtrabajo  ingresos  ultimocurso  \\\n",
       "4     Gerente  Triángulo Av general Enríquez     1150.5          NaN   \n",
       "21  Operativo                   Via amaguania     260.0          NaN   \n",
       "\n",
       "   fecha_nacimiento     medio                         domicilio  provincia  \\\n",
       "4        1980-03-21  Facebook  San Rafael valle de los chillos   Pichincha   \n",
       "21       1988-04-13  Facebook                            Pintag  Pichincha   \n",
       "\n",
       "       ciudad     sector nacionalidad       facebook fecha_matricula  \\\n",
       "4   RUMIÑAHUI  PERIFERIA  Ecuatoriano            NaN      2022-08-26   \n",
       "21  RUMIÑAHUI     CENTRO  Ecuatoriano  edison coyago      2023-03-04   \n",
       "\n",
       "         estado                     nombre_curso  edad  \n",
       "4     Culminado  Enderezada y pintura automotriz    43  \n",
       "21  Matriculado  Enderezada y pintura automotriz    35  "
      ]
     },
     "execution_count": 61,
     "metadata": {},
     "output_type": "execute_result"
    }
   ],
   "source": [
    "df[df['ciudad']=='RUMIÑAHUI']"
   ]
  },
  {
   "cell_type": "code",
   "execution_count": 62,
   "id": "37da12ab",
   "metadata": {},
   "outputs": [
    {
     "data": {
      "text/html": [
       "<div>\n",
       "<style scoped>\n",
       "    .dataframe tbody tr th:only-of-type {\n",
       "        vertical-align: middle;\n",
       "    }\n",
       "\n",
       "    .dataframe tbody tr th {\n",
       "        vertical-align: top;\n",
       "    }\n",
       "\n",
       "    .dataframe thead th {\n",
       "        text-align: right;\n",
       "    }\n",
       "</style>\n",
       "<table border=\"1\" class=\"dataframe\">\n",
       "  <thead>\n",
       "    <tr style=\"text-align: right;\">\n",
       "      <th></th>\n",
       "      <th>nombres</th>\n",
       "      <th>apellidos</th>\n",
       "      <th>provincia_nacimiento</th>\n",
       "      <th>estudios</th>\n",
       "      <th>ocupación</th>\n",
       "      <th>dirtrabajo</th>\n",
       "      <th>ingresos</th>\n",
       "      <th>ultimocurso</th>\n",
       "      <th>fecha_nacimiento</th>\n",
       "      <th>medio</th>\n",
       "      <th>domicilio</th>\n",
       "      <th>provincia</th>\n",
       "      <th>ciudad</th>\n",
       "      <th>sector</th>\n",
       "      <th>nacionalidad</th>\n",
       "      <th>facebook</th>\n",
       "      <th>fecha_matricula</th>\n",
       "      <th>estado</th>\n",
       "      <th>nombre_curso</th>\n",
       "      <th>edad</th>\n",
       "    </tr>\n",
       "  </thead>\n",
       "  <tbody>\n",
       "    <tr>\n",
       "      <th>18</th>\n",
       "      <td>JARO FERNANDO</td>\n",
       "      <td>MINDA MOREIRA</td>\n",
       "      <td>Los Rios</td>\n",
       "      <td>Secundaria</td>\n",
       "      <td>Operativo</td>\n",
       "      <td>Zapotal</td>\n",
       "      <td>260.0</td>\n",
       "      <td>NaN</td>\n",
       "      <td>1998-03-04</td>\n",
       "      <td>Facebook</td>\n",
       "      <td>Zapotal</td>\n",
       "      <td>Los Ríos</td>\n",
       "      <td>VENTANAS</td>\n",
       "      <td>SUR</td>\n",
       "      <td>Ecuatoriano</td>\n",
       "      <td>fernando minda</td>\n",
       "      <td>2023-02-26</td>\n",
       "      <td>Matriculado</td>\n",
       "      <td>Enderezada y pintura automotriz</td>\n",
       "      <td>25</td>\n",
       "    </tr>\n",
       "  </tbody>\n",
       "</table>\n",
       "</div>"
      ],
      "text/plain": [
       "          nombres      apellidos provincia_nacimiento    estudios  ocupación  \\\n",
       "18  JARO FERNANDO  MINDA MOREIRA             Los Rios  Secundaria  Operativo   \n",
       "\n",
       "   dirtrabajo  ingresos  ultimocurso fecha_nacimiento     medio domicilio  \\\n",
       "18    Zapotal     260.0          NaN       1998-03-04  Facebook   Zapotal   \n",
       "\n",
       "   provincia    ciudad sector nacionalidad        facebook fecha_matricula  \\\n",
       "18  Los Ríos  VENTANAS    SUR  Ecuatoriano  fernando minda      2023-02-26   \n",
       "\n",
       "         estado                     nombre_curso  edad  \n",
       "18  Matriculado  Enderezada y pintura automotriz    25  "
      ]
     },
     "execution_count": 62,
     "metadata": {},
     "output_type": "execute_result"
    }
   ],
   "source": [
    "df[df['ciudad']=='VENTANAS']"
   ]
  },
  {
   "cell_type": "code",
   "execution_count": 63,
   "id": "b3867d41",
   "metadata": {},
   "outputs": [
    {
     "data": {
      "text/html": [
       "<div>\n",
       "<style scoped>\n",
       "    .dataframe tbody tr th:only-of-type {\n",
       "        vertical-align: middle;\n",
       "    }\n",
       "\n",
       "    .dataframe tbody tr th {\n",
       "        vertical-align: top;\n",
       "    }\n",
       "\n",
       "    .dataframe thead th {\n",
       "        text-align: right;\n",
       "    }\n",
       "</style>\n",
       "<table border=\"1\" class=\"dataframe\">\n",
       "  <thead>\n",
       "    <tr style=\"text-align: right;\">\n",
       "      <th></th>\n",
       "      <th>nombres</th>\n",
       "      <th>apellidos</th>\n",
       "      <th>provincia_nacimiento</th>\n",
       "      <th>estudios</th>\n",
       "      <th>ocupación</th>\n",
       "      <th>dirtrabajo</th>\n",
       "      <th>ingresos</th>\n",
       "      <th>ultimocurso</th>\n",
       "      <th>fecha_nacimiento</th>\n",
       "      <th>medio</th>\n",
       "      <th>domicilio</th>\n",
       "      <th>provincia</th>\n",
       "      <th>ciudad</th>\n",
       "      <th>sector</th>\n",
       "      <th>nacionalidad</th>\n",
       "      <th>facebook</th>\n",
       "      <th>fecha_matricula</th>\n",
       "      <th>estado</th>\n",
       "      <th>nombre_curso</th>\n",
       "      <th>edad</th>\n",
       "    </tr>\n",
       "  </thead>\n",
       "  <tbody>\n",
       "    <tr>\n",
       "      <th>19</th>\n",
       "      <td>WILSON FERNANDO</td>\n",
       "      <td>PERALTA PAREDES</td>\n",
       "      <td>Pichincha</td>\n",
       "      <td>Secundaria</td>\n",
       "      <td>Operativo</td>\n",
       "      <td>Machachi</td>\n",
       "      <td>260.0</td>\n",
       "      <td>NaN</td>\n",
       "      <td>1985-07-25</td>\n",
       "      <td>Facebook</td>\n",
       "      <td>Machachi</td>\n",
       "      <td>Pichincha</td>\n",
       "      <td>MEJIA</td>\n",
       "      <td>CENTRO</td>\n",
       "      <td>Ecuatoriano</td>\n",
       "      <td>wilson peralta</td>\n",
       "      <td>2023-03-04</td>\n",
       "      <td>Matriculado</td>\n",
       "      <td>Enderezada y pintura automotriz</td>\n",
       "      <td>38</td>\n",
       "    </tr>\n",
       "  </tbody>\n",
       "</table>\n",
       "</div>"
      ],
      "text/plain": [
       "            nombres        apellidos provincia_nacimiento    estudios  \\\n",
       "19  WILSON FERNANDO  PERALTA PAREDES            Pichincha  Secundaria   \n",
       "\n",
       "    ocupación dirtrabajo  ingresos  ultimocurso fecha_nacimiento     medio  \\\n",
       "19  Operativo   Machachi     260.0          NaN       1985-07-25  Facebook   \n",
       "\n",
       "   domicilio  provincia ciudad  sector nacionalidad        facebook  \\\n",
       "19  Machachi  Pichincha  MEJIA  CENTRO  Ecuatoriano  wilson peralta   \n",
       "\n",
       "   fecha_matricula       estado                     nombre_curso  edad  \n",
       "19      2023-03-04  Matriculado  Enderezada y pintura automotriz    38  "
      ]
     },
     "execution_count": 63,
     "metadata": {},
     "output_type": "execute_result"
    }
   ],
   "source": [
    "df[df['ciudad']=='MEJIA']"
   ]
  },
  {
   "cell_type": "code",
   "execution_count": 64,
   "id": "6d35e412",
   "metadata": {},
   "outputs": [
    {
     "data": {
      "text/plain": [
       "(25, 20)"
      ]
     },
     "execution_count": 64,
     "metadata": {},
     "output_type": "execute_result"
    }
   ],
   "source": [
    "df.shape"
   ]
  },
  {
   "cell_type": "code",
   "execution_count": 65,
   "id": "48dea0d2",
   "metadata": {
    "scrolled": true
   },
   "outputs": [
    {
     "data": {
      "text/plain": [
       "(25, 20)"
      ]
     },
     "execution_count": 65,
     "metadata": {},
     "output_type": "execute_result"
    }
   ],
   "source": [
    "df.shape"
   ]
  },
  {
   "cell_type": "markdown",
   "id": "5a19906f",
   "metadata": {},
   "source": [
    "## 3) Unsupervised Learning: Customer Segmentation"
   ]
  },
  {
   "cell_type": "code",
   "execution_count": 197,
   "id": "81a0a0e2",
   "metadata": {},
   "outputs": [],
   "source": [
    "df2=df.copy()"
   ]
  },
  {
   "cell_type": "code",
   "execution_count": 198,
   "id": "7098c9d5",
   "metadata": {},
   "outputs": [
    {
     "data": {
      "text/html": [
       "<div>\n",
       "<style scoped>\n",
       "    .dataframe tbody tr th:only-of-type {\n",
       "        vertical-align: middle;\n",
       "    }\n",
       "\n",
       "    .dataframe tbody tr th {\n",
       "        vertical-align: top;\n",
       "    }\n",
       "\n",
       "    .dataframe thead th {\n",
       "        text-align: right;\n",
       "    }\n",
       "</style>\n",
       "<table border=\"1\" class=\"dataframe\">\n",
       "  <thead>\n",
       "    <tr style=\"text-align: right;\">\n",
       "      <th></th>\n",
       "      <th>nombres</th>\n",
       "      <th>apellidos</th>\n",
       "      <th>provincia_nacimiento</th>\n",
       "      <th>estudios</th>\n",
       "      <th>ocupación</th>\n",
       "      <th>dirtrabajo</th>\n",
       "      <th>ingresos</th>\n",
       "      <th>ultimocurso</th>\n",
       "      <th>fecha_nacimiento</th>\n",
       "      <th>medio</th>\n",
       "      <th>domicilio</th>\n",
       "      <th>provincia</th>\n",
       "      <th>ciudad</th>\n",
       "      <th>sector</th>\n",
       "      <th>nacionalidad</th>\n",
       "      <th>facebook</th>\n",
       "      <th>fecha_matricula</th>\n",
       "      <th>estado</th>\n",
       "      <th>nombre_curso</th>\n",
       "      <th>edad</th>\n",
       "    </tr>\n",
       "  </thead>\n",
       "  <tbody>\n",
       "    <tr>\n",
       "      <th>0</th>\n",
       "      <td>Jesy Alexander</td>\n",
       "      <td>Serrano Arteaga</td>\n",
       "      <td>Manabí</td>\n",
       "      <td>Maestria</td>\n",
       "      <td>Operativo</td>\n",
       "      <td>Machala y jorge piedra</td>\n",
       "      <td>610.5</td>\n",
       "      <td>NaN</td>\n",
       "      <td>1987-08-18</td>\n",
       "      <td>PaginaWeb</td>\n",
       "      <td>El elejido</td>\n",
       "      <td>Pichincha</td>\n",
       "      <td>QUITO</td>\n",
       "      <td>SUR</td>\n",
       "      <td>Ecuatoriano</td>\n",
       "      <td>NaN</td>\n",
       "      <td>2022-05-10</td>\n",
       "      <td>Culminado</td>\n",
       "      <td>Enderezada y pintura automotriz</td>\n",
       "      <td>36.0</td>\n",
       "    </tr>\n",
       "    <tr>\n",
       "      <th>1</th>\n",
       "      <td>Carlos Daniel</td>\n",
       "      <td>Rivera Lopez</td>\n",
       "      <td>Cotopaxi</td>\n",
       "      <td>Universidad</td>\n",
       "      <td>Operativo</td>\n",
       "      <td>Sangolquí, Rancho Viejo</td>\n",
       "      <td>610.5</td>\n",
       "      <td>NaN</td>\n",
       "      <td>1981-04-23</td>\n",
       "      <td>PaginaWeb</td>\n",
       "      <td>Avenida Yolanda Medina. Salcedo</td>\n",
       "      <td>Pichincha</td>\n",
       "      <td>QUITO</td>\n",
       "      <td>SUR</td>\n",
       "      <td>Ecuatoriano</td>\n",
       "      <td>NaN</td>\n",
       "      <td>2022-05-21</td>\n",
       "      <td>Culminado</td>\n",
       "      <td>Enderezada y pintura automotriz</td>\n",
       "      <td>42.0</td>\n",
       "    </tr>\n",
       "    <tr>\n",
       "      <th>2</th>\n",
       "      <td>Bryan Ariel</td>\n",
       "      <td>Silva Ramirez</td>\n",
       "      <td>Pichincha</td>\n",
       "      <td>Universidad</td>\n",
       "      <td>NoTrabaja</td>\n",
       "      <td>Martha bucaran</td>\n",
       "      <td>260.0</td>\n",
       "      <td>NaN</td>\n",
       "      <td>1996-11-01</td>\n",
       "      <td>Facebook</td>\n",
       "      <td>Martha Buran cela Ibarra</td>\n",
       "      <td>Pichincha</td>\n",
       "      <td>QUITO</td>\n",
       "      <td>SUR</td>\n",
       "      <td>Ecuatoriano</td>\n",
       "      <td>NaN</td>\n",
       "      <td>2022-05-21</td>\n",
       "      <td>Culminado</td>\n",
       "      <td>Enderezada y pintura automotriz</td>\n",
       "      <td>27.0</td>\n",
       "    </tr>\n",
       "  </tbody>\n",
       "</table>\n",
       "</div>"
      ],
      "text/plain": [
       "          nombres        apellidos provincia_nacimiento     estudios  \\\n",
       "0  Jesy Alexander  Serrano Arteaga               Manabí     Maestria   \n",
       "1  Carlos Daniel      Rivera Lopez             Cotopaxi  Universidad   \n",
       "2    Bryan Ariel    Silva Ramirez             Pichincha  Universidad   \n",
       "\n",
       "   ocupación               dirtrabajo  ingresos  ultimocurso fecha_nacimiento  \\\n",
       "0  Operativo   Machala y jorge piedra     610.5          NaN       1987-08-18   \n",
       "1  Operativo  Sangolquí, Rancho Viejo     610.5          NaN       1981-04-23   \n",
       "2  NoTrabaja          Martha bucaran      260.0          NaN       1996-11-01   \n",
       "\n",
       "       medio                         domicilio  provincia ciudad sector  \\\n",
       "0  PaginaWeb                        El elejido  Pichincha  QUITO    SUR   \n",
       "1  PaginaWeb  Avenida Yolanda Medina. Salcedo   Pichincha  QUITO    SUR   \n",
       "2   Facebook         Martha Buran cela Ibarra   Pichincha  QUITO    SUR   \n",
       "\n",
       "  nacionalidad facebook fecha_matricula     estado  \\\n",
       "0  Ecuatoriano      NaN      2022-05-10  Culminado   \n",
       "1  Ecuatoriano      NaN      2022-05-21  Culminado   \n",
       "2  Ecuatoriano      NaN      2022-05-21  Culminado   \n",
       "\n",
       "                      nombre_curso  edad  \n",
       "0  Enderezada y pintura automotriz  36.0  \n",
       "1  Enderezada y pintura automotriz  42.0  \n",
       "2  Enderezada y pintura automotriz  27.0  "
      ]
     },
     "execution_count": 198,
     "metadata": {},
     "output_type": "execute_result"
    }
   ],
   "source": [
    "df2.head(3)"
   ]
  },
  {
   "cell_type": "code",
   "execution_count": 199,
   "id": "a19835cc",
   "metadata": {},
   "outputs": [
    {
     "data": {
      "text/plain": [
       "(25, 20)"
      ]
     },
     "execution_count": 199,
     "metadata": {},
     "output_type": "execute_result"
    }
   ],
   "source": [
    "df2.shape"
   ]
  },
  {
   "cell_type": "code",
   "execution_count": 200,
   "id": "fdf88297",
   "metadata": {},
   "outputs": [],
   "source": [
    "df2.drop(labels=['nombres','apellidos','provincia_nacimiento','fecha_nacimiento','domicilio','nacionalidad',\n",
    "                'fecha_matricula','nombre_curso','facebook','estado','dirtrabajo','ultimocurso',\n",
    "                'provincia','ciudad'],axis=1,inplace=True)"
   ]
  },
  {
   "cell_type": "code",
   "execution_count": 201,
   "id": "40bc1b16",
   "metadata": {},
   "outputs": [
    {
     "data": {
      "text/html": [
       "<div>\n",
       "<style scoped>\n",
       "    .dataframe tbody tr th:only-of-type {\n",
       "        vertical-align: middle;\n",
       "    }\n",
       "\n",
       "    .dataframe tbody tr th {\n",
       "        vertical-align: top;\n",
       "    }\n",
       "\n",
       "    .dataframe thead th {\n",
       "        text-align: right;\n",
       "    }\n",
       "</style>\n",
       "<table border=\"1\" class=\"dataframe\">\n",
       "  <thead>\n",
       "    <tr style=\"text-align: right;\">\n",
       "      <th></th>\n",
       "      <th>estudios</th>\n",
       "      <th>ocupación</th>\n",
       "      <th>ingresos</th>\n",
       "      <th>medio</th>\n",
       "      <th>sector</th>\n",
       "      <th>edad</th>\n",
       "    </tr>\n",
       "  </thead>\n",
       "  <tbody>\n",
       "    <tr>\n",
       "      <th>0</th>\n",
       "      <td>Maestria</td>\n",
       "      <td>Operativo</td>\n",
       "      <td>610.50</td>\n",
       "      <td>PaginaWeb</td>\n",
       "      <td>SUR</td>\n",
       "      <td>36.0</td>\n",
       "    </tr>\n",
       "    <tr>\n",
       "      <th>1</th>\n",
       "      <td>Universidad</td>\n",
       "      <td>Operativo</td>\n",
       "      <td>610.50</td>\n",
       "      <td>PaginaWeb</td>\n",
       "      <td>SUR</td>\n",
       "      <td>42.0</td>\n",
       "    </tr>\n",
       "    <tr>\n",
       "      <th>2</th>\n",
       "      <td>Universidad</td>\n",
       "      <td>NoTrabaja</td>\n",
       "      <td>260.00</td>\n",
       "      <td>Facebook</td>\n",
       "      <td>SUR</td>\n",
       "      <td>27.0</td>\n",
       "    </tr>\n",
       "    <tr>\n",
       "      <th>3</th>\n",
       "      <td>Maestria</td>\n",
       "      <td>Gerente</td>\n",
       "      <td>610.50</td>\n",
       "      <td>PaginaWeb</td>\n",
       "      <td>PERIFERIA</td>\n",
       "      <td>42.0</td>\n",
       "    </tr>\n",
       "    <tr>\n",
       "      <th>4</th>\n",
       "      <td>Universidad</td>\n",
       "      <td>Gerente</td>\n",
       "      <td>463.86</td>\n",
       "      <td>Facebook</td>\n",
       "      <td>PERIFERIA</td>\n",
       "      <td>43.0</td>\n",
       "    </tr>\n",
       "  </tbody>\n",
       "</table>\n",
       "</div>"
      ],
      "text/plain": [
       "      estudios  ocupación  ingresos      medio     sector  edad\n",
       "0     Maestria  Operativo    610.50  PaginaWeb        SUR  36.0\n",
       "1  Universidad  Operativo    610.50  PaginaWeb        SUR  42.0\n",
       "2  Universidad  NoTrabaja    260.00   Facebook        SUR  27.0\n",
       "3     Maestria    Gerente    610.50  PaginaWeb  PERIFERIA  42.0\n",
       "4  Universidad    Gerente    463.86   Facebook  PERIFERIA  43.0"
      ]
     },
     "execution_count": 201,
     "metadata": {},
     "output_type": "execute_result"
    }
   ],
   "source": [
    "df2.head()"
   ]
  },
  {
   "cell_type": "markdown",
   "id": "8a60b5c1",
   "metadata": {},
   "source": [
    "### 3.1 Unsupervised Learning "
   ]
  },
  {
   "cell_type": "code",
   "execution_count": 202,
   "id": "0f1fb71a",
   "metadata": {},
   "outputs": [],
   "source": [
    "from sklearn.cluster import KMeans\n",
    "from sklearn.metrics import silhouette_score\n",
    "from sklearn.preprocessing import StandardScaler\n",
    "from yellowbrick.cluster import KElbowVisualizer, SilhouetteVisualizer\n",
    "\n",
    "# to compute distances\n",
    "from scipy.spatial.distance import cdist\n",
    "\n",
    "# To suppress the warnings\n",
    "import warnings\n",
    "warnings.filterwarnings(\"ignore\")"
   ]
  },
  {
   "cell_type": "code",
   "execution_count": 203,
   "id": "cc2c10d2",
   "metadata": {},
   "outputs": [],
   "source": [
    "categorical_columns=['estudios','ocupación','medio','sector']"
   ]
  },
  {
   "cell_type": "code",
   "execution_count": 204,
   "id": "c81ac9cc",
   "metadata": {},
   "outputs": [
    {
     "data": {
      "text/html": [
       "<div>\n",
       "<style scoped>\n",
       "    .dataframe tbody tr th:only-of-type {\n",
       "        vertical-align: middle;\n",
       "    }\n",
       "\n",
       "    .dataframe tbody tr th {\n",
       "        vertical-align: top;\n",
       "    }\n",
       "\n",
       "    .dataframe thead th {\n",
       "        text-align: right;\n",
       "    }\n",
       "</style>\n",
       "<table border=\"1\" class=\"dataframe\">\n",
       "  <thead>\n",
       "    <tr style=\"text-align: right;\">\n",
       "      <th></th>\n",
       "      <th>ingresos</th>\n",
       "      <th>edad</th>\n",
       "      <th>estudios_Maestria</th>\n",
       "      <th>estudios_Primaria</th>\n",
       "      <th>estudios_Secundaria</th>\n",
       "      <th>estudios_Universidad</th>\n",
       "      <th>ocupación_Gerente</th>\n",
       "      <th>ocupación_JefeArea</th>\n",
       "      <th>ocupación_NoTrabaja</th>\n",
       "      <th>ocupación_Operativo</th>\n",
       "      <th>medio_Facebook</th>\n",
       "      <th>medio_PaginaWeb</th>\n",
       "      <th>sector_CENTRO</th>\n",
       "      <th>sector_CENTRO-NORTE</th>\n",
       "      <th>sector_CENTRO-SUR</th>\n",
       "      <th>sector_NORTE</th>\n",
       "      <th>sector_PERIFERIA</th>\n",
       "      <th>sector_SUR</th>\n",
       "    </tr>\n",
       "  </thead>\n",
       "  <tbody>\n",
       "    <tr>\n",
       "      <th>0</th>\n",
       "      <td>610.5</td>\n",
       "      <td>36.0</td>\n",
       "      <td>1</td>\n",
       "      <td>0</td>\n",
       "      <td>0</td>\n",
       "      <td>0</td>\n",
       "      <td>0</td>\n",
       "      <td>0</td>\n",
       "      <td>0</td>\n",
       "      <td>1</td>\n",
       "      <td>0</td>\n",
       "      <td>1</td>\n",
       "      <td>0</td>\n",
       "      <td>0</td>\n",
       "      <td>0</td>\n",
       "      <td>0</td>\n",
       "      <td>0</td>\n",
       "      <td>1</td>\n",
       "    </tr>\n",
       "    <tr>\n",
       "      <th>1</th>\n",
       "      <td>610.5</td>\n",
       "      <td>42.0</td>\n",
       "      <td>0</td>\n",
       "      <td>0</td>\n",
       "      <td>0</td>\n",
       "      <td>1</td>\n",
       "      <td>0</td>\n",
       "      <td>0</td>\n",
       "      <td>0</td>\n",
       "      <td>1</td>\n",
       "      <td>0</td>\n",
       "      <td>1</td>\n",
       "      <td>0</td>\n",
       "      <td>0</td>\n",
       "      <td>0</td>\n",
       "      <td>0</td>\n",
       "      <td>0</td>\n",
       "      <td>1</td>\n",
       "    </tr>\n",
       "  </tbody>\n",
       "</table>\n",
       "</div>"
      ],
      "text/plain": [
       "   ingresos  edad  estudios_Maestria  estudios_Primaria  estudios_Secundaria  \\\n",
       "0     610.5  36.0                  1                  0                    0   \n",
       "1     610.5  42.0                  0                  0                    0   \n",
       "\n",
       "   estudios_Universidad  ocupación_Gerente  ocupación_JefeArea  \\\n",
       "0                     0                  0                   0   \n",
       "1                     1                  0                   0   \n",
       "\n",
       "   ocupación_NoTrabaja  ocupación_Operativo  medio_Facebook  medio_PaginaWeb  \\\n",
       "0                    0                    1               0                1   \n",
       "1                    0                    1               0                1   \n",
       "\n",
       "   sector_CENTRO  sector_CENTRO-NORTE  sector_CENTRO-SUR  sector_NORTE  \\\n",
       "0              0                    0                  0             0   \n",
       "1              0                    0                  0             0   \n",
       "\n",
       "   sector_PERIFERIA  sector_SUR  \n",
       "0                 0           1  \n",
       "1                 0           1  "
      ]
     },
     "execution_count": 204,
     "metadata": {},
     "output_type": "execute_result"
    }
   ],
   "source": [
    "data_encoded = pd.get_dummies(df2, columns=categorical_columns)\n",
    "data_encoded.head(2)                              "
   ]
  },
  {
   "cell_type": "code",
   "execution_count": 205,
   "id": "eec90717",
   "metadata": {},
   "outputs": [
    {
     "data": {
      "text/html": [
       "<div>\n",
       "<style scoped>\n",
       "    .dataframe tbody tr th:only-of-type {\n",
       "        vertical-align: middle;\n",
       "    }\n",
       "\n",
       "    .dataframe tbody tr th {\n",
       "        vertical-align: top;\n",
       "    }\n",
       "\n",
       "    .dataframe thead th {\n",
       "        text-align: right;\n",
       "    }\n",
       "</style>\n",
       "<table border=\"1\" class=\"dataframe\">\n",
       "  <thead>\n",
       "    <tr style=\"text-align: right;\">\n",
       "      <th></th>\n",
       "      <th>ingresos</th>\n",
       "      <th>edad</th>\n",
       "      <th>estudios_Maestria</th>\n",
       "      <th>estudios_Primaria</th>\n",
       "      <th>estudios_Secundaria</th>\n",
       "      <th>estudios_Universidad</th>\n",
       "      <th>ocupación_Gerente</th>\n",
       "      <th>ocupación_JefeArea</th>\n",
       "      <th>ocupación_NoTrabaja</th>\n",
       "      <th>ocupación_Operativo</th>\n",
       "      <th>medio_Facebook</th>\n",
       "      <th>medio_PaginaWeb</th>\n",
       "      <th>sector_CENTRO</th>\n",
       "      <th>sector_CENTRO-NORTE</th>\n",
       "      <th>sector_CENTRO-SUR</th>\n",
       "      <th>sector_NORTE</th>\n",
       "      <th>sector_PERIFERIA</th>\n",
       "      <th>sector_SUR</th>\n",
       "    </tr>\n",
       "  </thead>\n",
       "  <tbody>\n",
       "    <tr>\n",
       "      <th>23</th>\n",
       "      <td>610.5</td>\n",
       "      <td>44.0</td>\n",
       "      <td>0</td>\n",
       "      <td>0</td>\n",
       "      <td>0</td>\n",
       "      <td>1</td>\n",
       "      <td>0</td>\n",
       "      <td>1</td>\n",
       "      <td>0</td>\n",
       "      <td>0</td>\n",
       "      <td>0</td>\n",
       "      <td>1</td>\n",
       "      <td>0</td>\n",
       "      <td>0</td>\n",
       "      <td>0</td>\n",
       "      <td>1</td>\n",
       "      <td>0</td>\n",
       "      <td>0</td>\n",
       "    </tr>\n",
       "    <tr>\n",
       "      <th>24</th>\n",
       "      <td>260.0</td>\n",
       "      <td>30.0</td>\n",
       "      <td>0</td>\n",
       "      <td>0</td>\n",
       "      <td>1</td>\n",
       "      <td>0</td>\n",
       "      <td>0</td>\n",
       "      <td>0</td>\n",
       "      <td>0</td>\n",
       "      <td>1</td>\n",
       "      <td>0</td>\n",
       "      <td>1</td>\n",
       "      <td>0</td>\n",
       "      <td>0</td>\n",
       "      <td>0</td>\n",
       "      <td>1</td>\n",
       "      <td>0</td>\n",
       "      <td>0</td>\n",
       "    </tr>\n",
       "  </tbody>\n",
       "</table>\n",
       "</div>"
      ],
      "text/plain": [
       "    ingresos  edad  estudios_Maestria  estudios_Primaria  estudios_Secundaria  \\\n",
       "23     610.5  44.0                  0                  0                    0   \n",
       "24     260.0  30.0                  0                  0                    1   \n",
       "\n",
       "    estudios_Universidad  ocupación_Gerente  ocupación_JefeArea  \\\n",
       "23                     1                  0                   1   \n",
       "24                     0                  0                   0   \n",
       "\n",
       "    ocupación_NoTrabaja  ocupación_Operativo  medio_Facebook  medio_PaginaWeb  \\\n",
       "23                    0                    0               0                1   \n",
       "24                    0                    1               0                1   \n",
       "\n",
       "    sector_CENTRO  sector_CENTRO-NORTE  sector_CENTRO-SUR  sector_NORTE  \\\n",
       "23              0                    0                  0             1   \n",
       "24              0                    0                  0             1   \n",
       "\n",
       "    sector_PERIFERIA  sector_SUR  \n",
       "23                 0           0  \n",
       "24                 0           0  "
      ]
     },
     "execution_count": 205,
     "metadata": {},
     "output_type": "execute_result"
    }
   ],
   "source": [
    "data_encoded.tail(2)  "
   ]
  },
  {
   "cell_type": "code",
   "execution_count": 206,
   "id": "d47ce3be",
   "metadata": {},
   "outputs": [
    {
     "data": {
      "text/plain": [
       "18"
      ]
     },
     "execution_count": 206,
     "metadata": {},
     "output_type": "execute_result"
    }
   ],
   "source": [
    "len(data_encoded.columns)"
   ]
  },
  {
   "cell_type": "code",
   "execution_count": 207,
   "id": "b8d426bc",
   "metadata": {
    "scrolled": true
   },
   "outputs": [],
   "source": [
    "# Apply feature scaling using StandardScaler\n",
    "scaler = StandardScaler()\n",
    "data_scaled = scaler.fit_transform(data_encoded)"
   ]
  },
  {
   "cell_type": "code",
   "execution_count": 208,
   "id": "417210ac",
   "metadata": {},
   "outputs": [
    {
     "name": "stdout",
     "output_type": "stream",
     "text": [
      "Number of Clusters: 1 \tAverage Distortion: 4.1084337143924365\n",
      "Number of Clusters: 2 \tAverage Distortion: 3.625228416022979\n",
      "Number of Clusters: 3 \tAverage Distortion: 3.364238390591266\n",
      "Number of Clusters: 4 \tAverage Distortion: 3.227328240451517\n",
      "Number of Clusters: 5 \tAverage Distortion: 2.9575457324495464\n",
      "Number of Clusters: 6 \tAverage Distortion: 2.757738595820245\n",
      "Number of Clusters: 7 \tAverage Distortion: 2.4784444753362416\n",
      "Number of Clusters: 8 \tAverage Distortion: 2.259280109837212\n",
      "Number of Clusters: 9 \tAverage Distortion: 2.019491190144638\n"
     ]
    },
    {
     "data": {
      "text/plain": [
       "Text(0.5, 1.0, 'Selecting k with the Elbow Method')"
      ]
     },
     "execution_count": 208,
     "metadata": {},
     "output_type": "execute_result"
    },
    {
     "data": {
      "image/png": "[encoded data removed]",
      "text/plain": [
       "<Figure size 720x360 with 1 Axes>"
      ]
     },
     "metadata": {},
     "output_type": "display_data"
    }
   ],
   "source": [
    "clusters = range(1, 10)\n",
    "meanDistortions = []\n",
    "\n",
    "for k in clusters:\n",
    "    model = KMeans(n_clusters=k) #we'll get different value of k\n",
    "    model.fit(data_scaled)\n",
    "    prediction = model.predict(data_scaled) #give you the label\n",
    "    distortion = (\n",
    "        sum(                              #calculating distances of each cluster and summing\n",
    "            np.min(cdist(data_scaled, model.cluster_centers_, \"euclidean\"), axis=1) #it's calculating distance\n",
    "                #min distance                             #out of any of this points from the cluster centroid, fig 11\n",
    "        )             #here I will the centroids and distances and the best is the short distance\n",
    "        / data_scaled.shape[0] #dividing by number of points\n",
    "    )\n",
    "\n",
    "    meanDistortions.append(distortion)\n",
    "    print(\"Number of Clusters:\", k, \"\\tAverage Distortion:\", distortion)\n",
    "\n",
    "plt.figure(figsize=(10, 5))\n",
    "plt.grid(True)\n",
    "plt.plot(clusters, meanDistortions, \"bx-\")\n",
    "plt.xlabel(\"k\")\n",
    "plt.ylabel(\"Average Distortion\")\n",
    "plt.title(\"Selecting k with the Elbow Method\", fontsize=20)"
   ]
  },
  {
   "cell_type": "code",
   "execution_count": 209,
   "id": "385a55b8",
   "metadata": {},
   "outputs": [
    {
     "data": {
      "image/png": "[encoded data removed]",
      "text/plain": [
       "<Figure size 576x396 with 2 Axes>"
      ]
     },
     "metadata": {},
     "output_type": "display_data"
    },
    {
     "data": {
      "text/plain": [
       "<AxesSubplot:title={'center':'Distortion Score Elbow for KMeans Clustering'}, xlabel='k', ylabel='distortion score'>"
      ]
     },
     "execution_count": 209,
     "metadata": {},
     "output_type": "execute_result"
    }
   ],
   "source": [
    "#k_means_df = subset_scaled_df.copy()\n",
    "model = KMeans(random_state=1)\n",
    "visualizer = KElbowVisualizer(model, k=(1,10), timings=True) #timings, time to fit\n",
    "visualizer.fit(data_scaled)\n",
    "visualizer.show()"
   ]
  },
  {
   "cell_type": "code",
   "execution_count": 210,
   "id": "088d26bd",
   "metadata": {},
   "outputs": [
    {
     "data": {
      "image/png": "[encoded data removed]",
      "text/plain": [
       "<Figure size 720x360 with 1 Axes>"
      ]
     },
     "metadata": {},
     "output_type": "display_data"
    }
   ],
   "source": [
    "min_clusters=2 \n",
    "max_clusters=9\n",
    "silhouette_scores = []\n",
    "\n",
    "for k in range(min_clusters, max_clusters + 1):\n",
    "    # Apply k-means clustering\n",
    "    kmeans = KMeans(n_clusters=k)\n",
    "    kmeans.fit(data_scaled)\n",
    "\n",
    "    # Get silhouette score\n",
    "    silhouette_scores.append(silhouette_score(data_scaled, kmeans.labels_))\n",
    "\n",
    "# Plot the silhouette scores\n",
    "plt.figure(figsize=(10, 5))\n",
    "plt.plot(range(min_clusters, max_clusters + 1), silhouette_scores, marker='o')\n",
    "plt.xlabel('Number of Clusters (k)')\n",
    "plt.ylabel('Silhouette Score')\n",
    "plt.title('Silhouette Score vs. Number of Clusters')\n",
    "plt.show()"
   ]
  },
  {
   "cell_type": "code",
   "execution_count": 78,
   "id": "871978df",
   "metadata": {},
   "outputs": [
    {
     "name": "stdout",
     "output_type": "stream",
     "text": [
      "cluster-k:  2\n"
     ]
    },
    {
     "data": {
      "image/png": "[encoded data removed]",
      "text/plain": [
       "<Figure size 576x396 with 1 Axes>"
      ]
     },
     "metadata": {},
     "output_type": "display_data"
    },
    {
     "name": "stdout",
     "output_type": "stream",
     "text": [
      "cluster-k:  3\n"
     ]
    },
    {
     "data": {
      "image/png": "[encoded data removed]",
      "text/plain": [
       "<Figure size 576x396 with 1 Axes>"
      ]
     },
     "metadata": {},
     "output_type": "display_data"
    },
    {
     "name": "stdout",
     "output_type": "stream",
     "text": [
      "cluster-k:  4\n"
     ]
    },
    {
     "data": {
      "image/png": "[encoded data removed]",
      "text/plain": [
       "<Figure size 576x396 with 1 Axes>"
      ]
     },
     "metadata": {},
     "output_type": "display_data"
    },
    {
     "name": "stdout",
     "output_type": "stream",
     "text": [
      "cluster-k:  5\n"
     ]
    },
    {
     "data": {
      "image/png": "[encoded data removed]",
      "text/plain": [
       "<Figure size 576x396 with 1 Axes>"
      ]
     },
     "metadata": {},
     "output_type": "display_data"
    },
    {
     "name": "stdout",
     "output_type": "stream",
     "text": [
      "cluster-k:  6\n"
     ]
    },
    {
     "data": {
      "image/png": "[encoded data removed]",
      "text/plain": [
       "<Figure size 576x396 with 1 Axes>"
      ]
     },
     "metadata": {},
     "output_type": "display_data"
    }
   ],
   "source": [
    "clusters = range(2, 7)\n",
    "meanDistortions = []\n",
    "\n",
    "for k in clusters:\n",
    "    # finding optimal no. of clusters with silhouette coefficients\n",
    "    print('cluster-k: ',k)\n",
    "    visualizer = SilhouetteVisualizer(KMeans(k, random_state=1)) #with k clusters\n",
    "    visualizer.fit(data_scaled);\n",
    "    visualizer.show();"
   ]
  },
  {
   "cell_type": "markdown",
   "id": "35def0bf",
   "metadata": {},
   "source": [
    "## k=4"
   ]
  },
  {
   "cell_type": "code",
   "execution_count": 211,
   "id": "de95d867",
   "metadata": {},
   "outputs": [
    {
     "data": {
      "text/plain": [
       "(25, 18)"
      ]
     },
     "execution_count": 211,
     "metadata": {},
     "output_type": "execute_result"
    }
   ],
   "source": [
    "data_scaled.shape"
   ]
  },
  {
   "cell_type": "code",
   "execution_count": 221,
   "id": "9869f48b",
   "metadata": {},
   "outputs": [
    {
     "data": {
      "text/html": [
       "<style>#sk-container-id-9 {color: black;background-color: white;}#sk-container-id-9 pre{padding: 0;}#sk-container-id-9 div.sk-toggleable {background-color: white;}#sk-container-id-9 label.sk-toggleable__label {cursor: pointer;display: block;width: 100%;margin-bottom: 0;padding: 0.3em;box-sizing: border-box;text-align: center;}#sk-container-id-9 label.sk-toggleable__label-arrow:before {content: \"▸\";float: left;margin-right: 0.25em;color: #696969;}#sk-container-id-9 label.sk-toggleable__label-arrow:hover:before {color: black;}#sk-container-id-9 div.sk-estimator:hover label.sk-toggleable__label-arrow:before {color: black;}#sk-container-id-9 div.sk-toggleable__content {max-height: 0;max-width: 0;overflow: hidden;text-align: left;background-color: #f0f8ff;}#sk-container-id-9 div.sk-toggleable__content pre {margin: 0.2em;color: black;border-radius: 0.25em;background-color: #f0f8ff;}#sk-container-id-9 input.sk-toggleable__control:checked~div.sk-toggleable__content {max-height: 200px;max-width: 100%;overflow: auto;}#sk-container-id-9 input.sk-toggleable__control:checked~label.sk-toggleable__label-arrow:before {content: \"▾\";}#sk-container-id-9 div.sk-estimator input.sk-toggleable__control:checked~label.sk-toggleable__label {background-color: #d4ebff;}#sk-container-id-9 div.sk-label input.sk-toggleable__control:checked~label.sk-toggleable__label {background-color: #d4ebff;}#sk-container-id-9 input.sk-hidden--visually {border: 0;clip: rect(1px 1px 1px 1px);clip: rect(1px, 1px, 1px, 1px);height: 1px;margin: -1px;overflow: hidden;padding: 0;position: absolute;width: 1px;}#sk-container-id-9 div.sk-estimator {font-family: monospace;background-color: #f0f8ff;border: 1px dotted black;border-radius: 0.25em;box-sizing: border-box;margin-bottom: 0.5em;}#sk-container-id-9 div.sk-estimator:hover {background-color: #d4ebff;}#sk-container-id-9 div.sk-parallel-item::after {content: \"\";width: 100%;border-bottom: 1px solid gray;flex-grow: 1;}#sk-container-id-9 div.sk-label:hover label.sk-toggleable__label {background-color: #d4ebff;}#sk-container-id-9 div.sk-serial::before {content: \"\";position: absolute;border-left: 1px solid gray;box-sizing: border-box;top: 0;bottom: 0;left: 50%;z-index: 0;}#sk-container-id-9 div.sk-serial {display: flex;flex-direction: column;align-items: center;background-color: white;padding-right: 0.2em;padding-left: 0.2em;position: relative;}#sk-container-id-9 div.sk-item {position: relative;z-index: 1;}#sk-container-id-9 div.sk-parallel {display: flex;align-items: stretch;justify-content: center;background-color: white;position: relative;}#sk-container-id-9 div.sk-item::before, #sk-container-id-9 div.sk-parallel-item::before {content: \"\";position: absolute;border-left: 1px solid gray;box-sizing: border-box;top: 0;bottom: 0;left: 50%;z-index: -1;}#sk-container-id-9 div.sk-parallel-item {display: flex;flex-direction: column;z-index: 1;position: relative;background-color: white;}#sk-container-id-9 div.sk-parallel-item:first-child::after {align-self: flex-end;width: 50%;}#sk-container-id-9 div.sk-parallel-item:last-child::after {align-self: flex-start;width: 50%;}#sk-container-id-9 div.sk-parallel-item:only-child::after {width: 0;}#sk-container-id-9 div.sk-dashed-wrapped {border: 1px dashed gray;margin: 0 0.4em 0.5em 0.4em;box-sizing: border-box;padding-bottom: 0.4em;background-color: white;}#sk-container-id-9 div.sk-label label {font-family: monospace;font-weight: bold;display: inline-block;line-height: 1.2em;}#sk-container-id-9 div.sk-label-container {text-align: center;}#sk-container-id-9 div.sk-container {/* jupyter's `normalize.less` sets `[hidden] { display: none; }` but bootstrap.min.css set `[hidden] { display: none !important; }` so we also need the `!important` here to be able to override the default hidden behavior on the sphinx rendered scikit-learn.org. See: https://github.com/scikit-learn/scikit-learn/issues/21755 */display: inline-block !important;position: relative;}#sk-container-id-9 div.sk-text-repr-fallback {display: none;}</style><div id=\"sk-container-id-9\" class=\"sk-top-container\"><div class=\"sk-text-repr-fallback\"><pre>KMeans(n_clusters=3)</pre><b>In a Jupyter environment, please rerun this cell to show the HTML representation or trust the notebook. <br />On GitHub, the HTML representation is unable to render, please try loading this page with nbviewer.org.</b></div><div class=\"sk-container\" hidden><div class=\"sk-item\"><div class=\"sk-estimator sk-toggleable\"><input class=\"sk-toggleable__control sk-hidden--visually\" id=\"sk-estimator-id-9\" type=\"checkbox\" checked><label for=\"sk-estimator-id-9\" class=\"sk-toggleable__label sk-toggleable__label-arrow\">KMeans</label><div class=\"sk-toggleable__content\"><pre>KMeans(n_clusters=3)</pre></div></div></div></div></div>"
      ],
      "text/plain": [
       "KMeans(n_clusters=3)"
      ]
     },
     "execution_count": 221,
     "metadata": {},
     "output_type": "execute_result"
    }
   ],
   "source": [
    "# Apply k-means clustering\n",
    "k = 3  # Number of clusters\n",
    "kmeans2 = KMeans(n_clusters=k)\n",
    "kmeans2.fit(data_scaled)"
   ]
  },
  {
   "cell_type": "code",
   "execution_count": 222,
   "id": "d3243430",
   "metadata": {},
   "outputs": [
    {
     "data": {
      "text/plain": [
       "25"
      ]
     },
     "execution_count": 222,
     "metadata": {},
     "output_type": "execute_result"
    }
   ],
   "source": [
    "# Get the cluster labels for each data point\n",
    "cluster_labels = kmeans2.labels_\n",
    "len(cluster_labels) #it has 241 predictions in 5 clusters: 0,1,2,3,4"
   ]
  },
  {
   "cell_type": "code",
   "execution_count": 223,
   "id": "cbbc54e5",
   "metadata": {},
   "outputs": [
    {
     "data": {
      "text/plain": [
       "320.69270347069084"
      ]
     },
     "execution_count": 223,
     "metadata": {},
     "output_type": "execute_result"
    }
   ],
   "source": [
    "kmeans2.inertia_"
   ]
  },
  {
   "cell_type": "markdown",
   "id": "ee0c5cbc",
   "metadata": {},
   "source": [
    "**Data Frame of clusters**"
   ]
  },
  {
   "cell_type": "code",
   "execution_count": 224,
   "id": "f0fa0f52",
   "metadata": {
    "scrolled": true
   },
   "outputs": [
    {
     "data": {
      "text/plain": [
       "array([[-1.02673835,  1.94261973, -0.29488391,  4.89897949, -0.81649658,\n",
       "        -0.96076892, -0.36927447, -0.36927447, -0.29488391,  0.68599434,\n",
       "         0.62360956, -0.62360956, -0.36927447, -0.29488391, -0.20412415,\n",
       "        -0.43643578, -0.36927447,  1.040833  ]])"
      ]
     },
     "execution_count": 224,
     "metadata": {},
     "output_type": "execute_result"
    }
   ],
   "source": [
    "kmeans.cluster_centers_[0:1] #first cluster center"
   ]
  },
  {
   "cell_type": "code",
   "execution_count": 225,
   "id": "6cd0f5a7",
   "metadata": {},
   "outputs": [
    {
     "data": {
      "text/html": [
       "<div>\n",
       "<style scoped>\n",
       "    .dataframe tbody tr th:only-of-type {\n",
       "        vertical-align: middle;\n",
       "    }\n",
       "\n",
       "    .dataframe tbody tr th {\n",
       "        vertical-align: top;\n",
       "    }\n",
       "\n",
       "    .dataframe thead th {\n",
       "        text-align: right;\n",
       "    }\n",
       "</style>\n",
       "<table border=\"1\" class=\"dataframe\">\n",
       "  <thead>\n",
       "    <tr style=\"text-align: right;\">\n",
       "      <th></th>\n",
       "      <th>ingresos</th>\n",
       "      <th>edad</th>\n",
       "      <th>estudios_Maestria</th>\n",
       "      <th>estudios_Primaria</th>\n",
       "      <th>estudios_Secundaria</th>\n",
       "      <th>estudios_Universidad</th>\n",
       "      <th>ocupación_Gerente</th>\n",
       "      <th>ocupación_JefeArea</th>\n",
       "      <th>ocupación_NoTrabaja</th>\n",
       "      <th>ocupación_Operativo</th>\n",
       "      <th>medio_Facebook</th>\n",
       "      <th>medio_PaginaWeb</th>\n",
       "      <th>sector_CENTRO</th>\n",
       "      <th>sector_CENTRO-NORTE</th>\n",
       "      <th>sector_CENTRO-SUR</th>\n",
       "      <th>sector_NORTE</th>\n",
       "      <th>sector_PERIFERIA</th>\n",
       "      <th>sector_SUR</th>\n",
       "    </tr>\n",
       "  </thead>\n",
       "  <tbody>\n",
       "    <tr>\n",
       "      <th>0</th>\n",
       "      <td>-1.026738</td>\n",
       "      <td>1.942620</td>\n",
       "      <td>-0.294884</td>\n",
       "      <td>4.898979</td>\n",
       "      <td>-0.816497</td>\n",
       "      <td>-0.960769</td>\n",
       "      <td>-0.369274</td>\n",
       "      <td>-0.369274</td>\n",
       "      <td>-0.294884</td>\n",
       "      <td>0.685994</td>\n",
       "      <td>0.623610</td>\n",
       "      <td>-0.623610</td>\n",
       "      <td>-0.369274</td>\n",
       "      <td>-0.294884</td>\n",
       "      <td>-0.204124</td>\n",
       "      <td>-0.436436</td>\n",
       "      <td>-0.369274</td>\n",
       "      <td>1.040833</td>\n",
       "    </tr>\n",
       "    <tr>\n",
       "      <th>1</th>\n",
       "      <td>-1.026738</td>\n",
       "      <td>-1.132968</td>\n",
       "      <td>-0.294884</td>\n",
       "      <td>-0.204124</td>\n",
       "      <td>1.224745</td>\n",
       "      <td>-0.960769</td>\n",
       "      <td>-0.369274</td>\n",
       "      <td>-0.369274</td>\n",
       "      <td>-0.294884</td>\n",
       "      <td>0.685994</td>\n",
       "      <td>-0.489979</td>\n",
       "      <td>0.489979</td>\n",
       "      <td>-0.369274</td>\n",
       "      <td>-0.294884</td>\n",
       "      <td>-0.204124</td>\n",
       "      <td>2.291288</td>\n",
       "      <td>-0.369274</td>\n",
       "      <td>-0.960769</td>\n",
       "    </tr>\n",
       "    <tr>\n",
       "      <th>2</th>\n",
       "      <td>0.503377</td>\n",
       "      <td>-0.544026</td>\n",
       "      <td>-0.294884</td>\n",
       "      <td>-0.204124</td>\n",
       "      <td>-0.816497</td>\n",
       "      <td>1.040833</td>\n",
       "      <td>-0.369274</td>\n",
       "      <td>-0.369274</td>\n",
       "      <td>0.626628</td>\n",
       "      <td>0.150061</td>\n",
       "      <td>0.623610</td>\n",
       "      <td>-0.623610</td>\n",
       "      <td>0.400047</td>\n",
       "      <td>0.626628</td>\n",
       "      <td>-0.204124</td>\n",
       "      <td>-0.436436</td>\n",
       "      <td>-0.369274</td>\n",
       "      <td>0.040032</td>\n",
       "    </tr>\n",
       "    <tr>\n",
       "      <th>3</th>\n",
       "      <td>0.728900</td>\n",
       "      <td>0.851986</td>\n",
       "      <td>0.933799</td>\n",
       "      <td>-0.204124</td>\n",
       "      <td>-0.816497</td>\n",
       "      <td>0.373632</td>\n",
       "      <td>2.708013</td>\n",
       "      <td>-0.369274</td>\n",
       "      <td>-0.294884</td>\n",
       "      <td>-1.457738</td>\n",
       "      <td>-0.118783</td>\n",
       "      <td>0.118783</td>\n",
       "      <td>-0.369274</td>\n",
       "      <td>-0.294884</td>\n",
       "      <td>-0.204124</td>\n",
       "      <td>0.472805</td>\n",
       "      <td>1.682250</td>\n",
       "      <td>-0.960769</td>\n",
       "    </tr>\n",
       "    <tr>\n",
       "      <th>4</th>\n",
       "      <td>1.013416</td>\n",
       "      <td>0.546608</td>\n",
       "      <td>0.933799</td>\n",
       "      <td>-0.204124</td>\n",
       "      <td>-0.816497</td>\n",
       "      <td>0.373632</td>\n",
       "      <td>-0.369274</td>\n",
       "      <td>-0.369274</td>\n",
       "      <td>-0.294884</td>\n",
       "      <td>0.685994</td>\n",
       "      <td>-1.603567</td>\n",
       "      <td>1.603567</td>\n",
       "      <td>-0.369274</td>\n",
       "      <td>-0.294884</td>\n",
       "      <td>-0.204124</td>\n",
       "      <td>-0.436436</td>\n",
       "      <td>0.656488</td>\n",
       "      <td>0.373632</td>\n",
       "    </tr>\n",
       "    <tr>\n",
       "      <th>5</th>\n",
       "      <td>-1.026738</td>\n",
       "      <td>-0.357060</td>\n",
       "      <td>-0.294884</td>\n",
       "      <td>-0.204124</td>\n",
       "      <td>1.224745</td>\n",
       "      <td>-0.960769</td>\n",
       "      <td>-0.369274</td>\n",
       "      <td>-0.369274</td>\n",
       "      <td>-0.294884</td>\n",
       "      <td>0.685994</td>\n",
       "      <td>0.623610</td>\n",
       "      <td>-0.623610</td>\n",
       "      <td>0.509950</td>\n",
       "      <td>-0.294884</td>\n",
       "      <td>-0.204124</td>\n",
       "      <td>-0.436436</td>\n",
       "      <td>-0.369274</td>\n",
       "      <td>0.468947</td>\n",
       "    </tr>\n",
       "  </tbody>\n",
       "</table>\n",
       "</div>"
      ],
      "text/plain": [
       "   ingresos      edad  estudios_Maestria  estudios_Primaria  \\\n",
       "0 -1.026738  1.942620          -0.294884           4.898979   \n",
       "1 -1.026738 -1.132968          -0.294884          -0.204124   \n",
       "2  0.503377 -0.544026          -0.294884          -0.204124   \n",
       "3  0.728900  0.851986           0.933799          -0.204124   \n",
       "4  1.013416  0.546608           0.933799          -0.204124   \n",
       "5 -1.026738 -0.357060          -0.294884          -0.204124   \n",
       "\n",
       "   estudios_Secundaria  estudios_Universidad  ocupación_Gerente  \\\n",
       "0            -0.816497             -0.960769          -0.369274   \n",
       "1             1.224745             -0.960769          -0.369274   \n",
       "2            -0.816497              1.040833          -0.369274   \n",
       "3            -0.816497              0.373632           2.708013   \n",
       "4            -0.816497              0.373632          -0.369274   \n",
       "5             1.224745             -0.960769          -0.369274   \n",
       "\n",
       "   ocupación_JefeArea  ocupación_NoTrabaja  ocupación_Operativo  \\\n",
       "0           -0.369274            -0.294884             0.685994   \n",
       "1           -0.369274            -0.294884             0.685994   \n",
       "2           -0.369274             0.626628             0.150061   \n",
       "3           -0.369274            -0.294884            -1.457738   \n",
       "4           -0.369274            -0.294884             0.685994   \n",
       "5           -0.369274            -0.294884             0.685994   \n",
       "\n",
       "   medio_Facebook  medio_PaginaWeb  sector_CENTRO  sector_CENTRO-NORTE  \\\n",
       "0        0.623610        -0.623610      -0.369274            -0.294884   \n",
       "1       -0.489979         0.489979      -0.369274            -0.294884   \n",
       "2        0.623610        -0.623610       0.400047             0.626628   \n",
       "3       -0.118783         0.118783      -0.369274            -0.294884   \n",
       "4       -1.603567         1.603567      -0.369274            -0.294884   \n",
       "5        0.623610        -0.623610       0.509950            -0.294884   \n",
       "\n",
       "   sector_CENTRO-SUR  sector_NORTE  sector_PERIFERIA  sector_SUR  \n",
       "0          -0.204124     -0.436436         -0.369274    1.040833  \n",
       "1          -0.204124      2.291288         -0.369274   -0.960769  \n",
       "2          -0.204124     -0.436436         -0.369274    0.040032  \n",
       "3          -0.204124      0.472805          1.682250   -0.960769  \n",
       "4          -0.204124     -0.436436          0.656488    0.373632  \n",
       "5          -0.204124     -0.436436         -0.369274    0.468947  "
      ]
     },
     "execution_count": 225,
     "metadata": {},
     "output_type": "execute_result"
    }
   ],
   "source": [
    "cluster_center_df = pd.DataFrame(kmeans.cluster_centers_,columns=data_encoded.columns)\n",
    "cluster_center_df.head(6) #6 first clusters center"
   ]
  },
  {
   "cell_type": "markdown",
   "id": "1fe4eee8",
   "metadata": {},
   "source": [
    "#### Data Frame of mean of clusters on original data"
   ]
  },
  {
   "cell_type": "code",
   "execution_count": 226,
   "id": "44c29bb2",
   "metadata": {
    "scrolled": true
   },
   "outputs": [
    {
     "data": {
      "text/html": [
       "<div>\n",
       "<style scoped>\n",
       "    .dataframe tbody tr th:only-of-type {\n",
       "        vertical-align: middle;\n",
       "    }\n",
       "\n",
       "    .dataframe tbody tr th {\n",
       "        vertical-align: top;\n",
       "    }\n",
       "\n",
       "    .dataframe thead th {\n",
       "        text-align: right;\n",
       "    }\n",
       "</style>\n",
       "<table border=\"1\" class=\"dataframe\">\n",
       "  <thead>\n",
       "    <tr style=\"text-align: right;\">\n",
       "      <th></th>\n",
       "      <th>ingresos</th>\n",
       "      <th>edad</th>\n",
       "      <th>estudios_Maestria</th>\n",
       "      <th>estudios_Primaria</th>\n",
       "      <th>estudios_Secundaria</th>\n",
       "      <th>estudios_Universidad</th>\n",
       "      <th>ocupación_Gerente</th>\n",
       "      <th>ocupación_JefeArea</th>\n",
       "      <th>ocupación_NoTrabaja</th>\n",
       "      <th>ocupación_Operativo</th>\n",
       "      <th>medio_Facebook</th>\n",
       "      <th>medio_PaginaWeb</th>\n",
       "      <th>sector_CENTRO</th>\n",
       "      <th>sector_CENTRO-NORTE</th>\n",
       "      <th>sector_CENTRO-SUR</th>\n",
       "      <th>sector_NORTE</th>\n",
       "      <th>sector_PERIFERIA</th>\n",
       "      <th>sector_SUR</th>\n",
       "    </tr>\n",
       "  </thead>\n",
       "  <tbody>\n",
       "    <tr>\n",
       "      <th>0</th>\n",
       "      <td>260.000</td>\n",
       "      <td>48.000000</td>\n",
       "      <td>0.000000e+00</td>\n",
       "      <td>1.0</td>\n",
       "      <td>0.000000</td>\n",
       "      <td>0.000000</td>\n",
       "      <td>0.0</td>\n",
       "      <td>0.0</td>\n",
       "      <td>0.000000e+00</td>\n",
       "      <td>1.00</td>\n",
       "      <td>1.000000e+00</td>\n",
       "      <td>0.000000e+00</td>\n",
       "      <td>0.000000</td>\n",
       "      <td>0.000000e+00</td>\n",
       "      <td>0.000000e+00</td>\n",
       "      <td>0.000000</td>\n",
       "      <td>0.000000</td>\n",
       "      <td>1.000000e+00</td>\n",
       "    </tr>\n",
       "    <tr>\n",
       "      <th>1</th>\n",
       "      <td>260.000</td>\n",
       "      <td>24.500000</td>\n",
       "      <td>0.000000e+00</td>\n",
       "      <td>0.0</td>\n",
       "      <td>1.000000</td>\n",
       "      <td>0.000000</td>\n",
       "      <td>0.0</td>\n",
       "      <td>0.0</td>\n",
       "      <td>0.000000e+00</td>\n",
       "      <td>1.00</td>\n",
       "      <td>5.000000e-01</td>\n",
       "      <td>5.000000e-01</td>\n",
       "      <td>0.000000</td>\n",
       "      <td>0.000000e+00</td>\n",
       "      <td>0.000000e+00</td>\n",
       "      <td>1.000000</td>\n",
       "      <td>0.000000</td>\n",
       "      <td>0.000000e+00</td>\n",
       "    </tr>\n",
       "    <tr>\n",
       "      <th>2</th>\n",
       "      <td>522.875</td>\n",
       "      <td>29.000000</td>\n",
       "      <td>0.000000e+00</td>\n",
       "      <td>0.0</td>\n",
       "      <td>0.000000</td>\n",
       "      <td>1.000000</td>\n",
       "      <td>0.0</td>\n",
       "      <td>0.0</td>\n",
       "      <td>2.500000e-01</td>\n",
       "      <td>0.75</td>\n",
       "      <td>1.000000e+00</td>\n",
       "      <td>0.000000e+00</td>\n",
       "      <td>0.250000</td>\n",
       "      <td>2.500000e-01</td>\n",
       "      <td>0.000000e+00</td>\n",
       "      <td>0.000000</td>\n",
       "      <td>0.000000</td>\n",
       "      <td>5.000000e-01</td>\n",
       "    </tr>\n",
       "    <tr>\n",
       "      <th>3</th>\n",
       "      <td>561.620</td>\n",
       "      <td>39.666667</td>\n",
       "      <td>3.333333e-01</td>\n",
       "      <td>0.0</td>\n",
       "      <td>0.000000</td>\n",
       "      <td>0.666667</td>\n",
       "      <td>1.0</td>\n",
       "      <td>0.0</td>\n",
       "      <td>0.000000e+00</td>\n",
       "      <td>0.00</td>\n",
       "      <td>6.666667e-01</td>\n",
       "      <td>3.333333e-01</td>\n",
       "      <td>0.000000</td>\n",
       "      <td>0.000000e+00</td>\n",
       "      <td>6.938894e-18</td>\n",
       "      <td>0.333333</td>\n",
       "      <td>0.666667</td>\n",
       "      <td>5.551115e-17</td>\n",
       "    </tr>\n",
       "    <tr>\n",
       "      <th>4</th>\n",
       "      <td>610.500</td>\n",
       "      <td>37.333333</td>\n",
       "      <td>3.333333e-01</td>\n",
       "      <td>0.0</td>\n",
       "      <td>0.000000</td>\n",
       "      <td>0.666667</td>\n",
       "      <td>0.0</td>\n",
       "      <td>0.0</td>\n",
       "      <td>0.000000e+00</td>\n",
       "      <td>1.00</td>\n",
       "      <td>1.110223e-16</td>\n",
       "      <td>1.000000e+00</td>\n",
       "      <td>0.000000</td>\n",
       "      <td>0.000000e+00</td>\n",
       "      <td>6.938894e-18</td>\n",
       "      <td>0.000000</td>\n",
       "      <td>0.333333</td>\n",
       "      <td>6.666667e-01</td>\n",
       "    </tr>\n",
       "    <tr>\n",
       "      <th>5</th>\n",
       "      <td>260.000</td>\n",
       "      <td>30.428571</td>\n",
       "      <td>1.387779e-17</td>\n",
       "      <td>0.0</td>\n",
       "      <td>1.000000</td>\n",
       "      <td>0.000000</td>\n",
       "      <td>0.0</td>\n",
       "      <td>0.0</td>\n",
       "      <td>1.387779e-17</td>\n",
       "      <td>1.00</td>\n",
       "      <td>1.000000e+00</td>\n",
       "      <td>5.551115e-17</td>\n",
       "      <td>0.285714</td>\n",
       "      <td>1.387779e-17</td>\n",
       "      <td>6.938894e-18</td>\n",
       "      <td>0.000000</td>\n",
       "      <td>0.000000</td>\n",
       "      <td>7.142857e-01</td>\n",
       "    </tr>\n",
       "    <tr>\n",
       "      <th>6</th>\n",
       "      <td>260.000</td>\n",
       "      <td>22.000000</td>\n",
       "      <td>0.000000e+00</td>\n",
       "      <td>0.0</td>\n",
       "      <td>0.000000</td>\n",
       "      <td>1.000000</td>\n",
       "      <td>0.0</td>\n",
       "      <td>0.0</td>\n",
       "      <td>1.000000e+00</td>\n",
       "      <td>0.00</td>\n",
       "      <td>0.000000e+00</td>\n",
       "      <td>1.000000e+00</td>\n",
       "      <td>0.000000</td>\n",
       "      <td>1.000000e+00</td>\n",
       "      <td>0.000000e+00</td>\n",
       "      <td>0.000000</td>\n",
       "      <td>0.000000</td>\n",
       "      <td>0.000000e+00</td>\n",
       "    </tr>\n",
       "    <tr>\n",
       "      <th>7</th>\n",
       "      <td>610.500</td>\n",
       "      <td>31.920000</td>\n",
       "      <td>0.000000e+00</td>\n",
       "      <td>0.0</td>\n",
       "      <td>0.000000</td>\n",
       "      <td>1.000000</td>\n",
       "      <td>0.0</td>\n",
       "      <td>0.0</td>\n",
       "      <td>0.000000e+00</td>\n",
       "      <td>1.00</td>\n",
       "      <td>1.000000e+00</td>\n",
       "      <td>0.000000e+00</td>\n",
       "      <td>0.000000</td>\n",
       "      <td>0.000000e+00</td>\n",
       "      <td>1.000000e+00</td>\n",
       "      <td>0.000000</td>\n",
       "      <td>0.000000</td>\n",
       "      <td>0.000000e+00</td>\n",
       "    </tr>\n",
       "    <tr>\n",
       "      <th>8</th>\n",
       "      <td>610.500</td>\n",
       "      <td>39.333333</td>\n",
       "      <td>0.000000e+00</td>\n",
       "      <td>0.0</td>\n",
       "      <td>0.333333</td>\n",
       "      <td>0.666667</td>\n",
       "      <td>0.0</td>\n",
       "      <td>1.0</td>\n",
       "      <td>0.000000e+00</td>\n",
       "      <td>0.00</td>\n",
       "      <td>6.666667e-01</td>\n",
       "      <td>3.333333e-01</td>\n",
       "      <td>0.000000</td>\n",
       "      <td>0.000000e+00</td>\n",
       "      <td>6.938894e-18</td>\n",
       "      <td>0.333333</td>\n",
       "      <td>0.000000</td>\n",
       "      <td>6.666667e-01</td>\n",
       "    </tr>\n",
       "  </tbody>\n",
       "</table>\n",
       "</div>"
      ],
      "text/plain": [
       "   ingresos       edad  estudios_Maestria  estudios_Primaria  \\\n",
       "0   260.000  48.000000       0.000000e+00                1.0   \n",
       "1   260.000  24.500000       0.000000e+00                0.0   \n",
       "2   522.875  29.000000       0.000000e+00                0.0   \n",
       "3   561.620  39.666667       3.333333e-01                0.0   \n",
       "4   610.500  37.333333       3.333333e-01                0.0   \n",
       "5   260.000  30.428571       1.387779e-17                0.0   \n",
       "6   260.000  22.000000       0.000000e+00                0.0   \n",
       "7   610.500  31.920000       0.000000e+00                0.0   \n",
       "8   610.500  39.333333       0.000000e+00                0.0   \n",
       "\n",
       "   estudios_Secundaria  estudios_Universidad  ocupación_Gerente  \\\n",
       "0             0.000000              0.000000                0.0   \n",
       "1             1.000000              0.000000                0.0   \n",
       "2             0.000000              1.000000                0.0   \n",
       "3             0.000000              0.666667                1.0   \n",
       "4             0.000000              0.666667                0.0   \n",
       "5             1.000000              0.000000                0.0   \n",
       "6             0.000000              1.000000                0.0   \n",
       "7             0.000000              1.000000                0.0   \n",
       "8             0.333333              0.666667                0.0   \n",
       "\n",
       "   ocupación_JefeArea  ocupación_NoTrabaja  ocupación_Operativo  \\\n",
       "0                 0.0         0.000000e+00                 1.00   \n",
       "1                 0.0         0.000000e+00                 1.00   \n",
       "2                 0.0         2.500000e-01                 0.75   \n",
       "3                 0.0         0.000000e+00                 0.00   \n",
       "4                 0.0         0.000000e+00                 1.00   \n",
       "5                 0.0         1.387779e-17                 1.00   \n",
       "6                 0.0         1.000000e+00                 0.00   \n",
       "7                 0.0         0.000000e+00                 1.00   \n",
       "8                 1.0         0.000000e+00                 0.00   \n",
       "\n",
       "   medio_Facebook  medio_PaginaWeb  sector_CENTRO  sector_CENTRO-NORTE  \\\n",
       "0    1.000000e+00     0.000000e+00       0.000000         0.000000e+00   \n",
       "1    5.000000e-01     5.000000e-01       0.000000         0.000000e+00   \n",
       "2    1.000000e+00     0.000000e+00       0.250000         2.500000e-01   \n",
       "3    6.666667e-01     3.333333e-01       0.000000         0.000000e+00   \n",
       "4    1.110223e-16     1.000000e+00       0.000000         0.000000e+00   \n",
       "5    1.000000e+00     5.551115e-17       0.285714         1.387779e-17   \n",
       "6    0.000000e+00     1.000000e+00       0.000000         1.000000e+00   \n",
       "7    1.000000e+00     0.000000e+00       0.000000         0.000000e+00   \n",
       "8    6.666667e-01     3.333333e-01       0.000000         0.000000e+00   \n",
       "\n",
       "   sector_CENTRO-SUR  sector_NORTE  sector_PERIFERIA    sector_SUR  \n",
       "0       0.000000e+00      0.000000          0.000000  1.000000e+00  \n",
       "1       0.000000e+00      1.000000          0.000000  0.000000e+00  \n",
       "2       0.000000e+00      0.000000          0.000000  5.000000e-01  \n",
       "3       6.938894e-18      0.333333          0.666667  5.551115e-17  \n",
       "4       6.938894e-18      0.000000          0.333333  6.666667e-01  \n",
       "5       6.938894e-18      0.000000          0.000000  7.142857e-01  \n",
       "6       0.000000e+00      0.000000          0.000000  0.000000e+00  \n",
       "7       1.000000e+00      0.000000          0.000000  0.000000e+00  \n",
       "8       6.938894e-18      0.333333          0.000000  6.666667e-01  "
      ]
     },
     "execution_count": 226,
     "metadata": {},
     "output_type": "execute_result"
    }
   ],
   "source": [
    "mean_of_clusters=scaler.inverse_transform(cluster_center_df) #inverse transform\n",
    "inverse_transform_df = pd.DataFrame(mean_of_clusters,columns=data_encoded.columns)\n",
    "inverse_transform_df"
   ]
  },
  {
   "cell_type": "code",
   "execution_count": 227,
   "id": "ec44a169",
   "metadata": {},
   "outputs": [],
   "source": [
    "data_encoded['cluster'] = cluster_labels"
   ]
  },
  {
   "cell_type": "code",
   "execution_count": 228,
   "id": "27aa3adf",
   "metadata": {},
   "outputs": [
    {
     "data": {
      "text/html": [
       "<div>\n",
       "<style scoped>\n",
       "    .dataframe tbody tr th:only-of-type {\n",
       "        vertical-align: middle;\n",
       "    }\n",
       "\n",
       "    .dataframe tbody tr th {\n",
       "        vertical-align: top;\n",
       "    }\n",
       "\n",
       "    .dataframe thead th {\n",
       "        text-align: right;\n",
       "    }\n",
       "</style>\n",
       "<table border=\"1\" class=\"dataframe\">\n",
       "  <thead>\n",
       "    <tr style=\"text-align: right;\">\n",
       "      <th></th>\n",
       "      <th>ingresos</th>\n",
       "      <th>edad</th>\n",
       "      <th>estudios_Maestria</th>\n",
       "      <th>estudios_Primaria</th>\n",
       "      <th>estudios_Secundaria</th>\n",
       "      <th>estudios_Universidad</th>\n",
       "      <th>ocupación_Gerente</th>\n",
       "      <th>ocupación_JefeArea</th>\n",
       "      <th>ocupación_NoTrabaja</th>\n",
       "      <th>ocupación_Operativo</th>\n",
       "      <th>medio_Facebook</th>\n",
       "      <th>medio_PaginaWeb</th>\n",
       "      <th>sector_CENTRO</th>\n",
       "      <th>sector_CENTRO-NORTE</th>\n",
       "      <th>sector_CENTRO-SUR</th>\n",
       "      <th>sector_NORTE</th>\n",
       "      <th>sector_PERIFERIA</th>\n",
       "      <th>sector_SUR</th>\n",
       "    </tr>\n",
       "    <tr>\n",
       "      <th>cluster</th>\n",
       "      <th></th>\n",
       "      <th></th>\n",
       "      <th></th>\n",
       "      <th></th>\n",
       "      <th></th>\n",
       "      <th></th>\n",
       "      <th></th>\n",
       "      <th></th>\n",
       "      <th></th>\n",
       "      <th></th>\n",
       "      <th></th>\n",
       "      <th></th>\n",
       "      <th></th>\n",
       "      <th></th>\n",
       "      <th></th>\n",
       "      <th></th>\n",
       "      <th></th>\n",
       "      <th></th>\n",
       "    </tr>\n",
       "  </thead>\n",
       "  <tbody>\n",
       "    <tr>\n",
       "      <th>0</th>\n",
       "      <td>291.863636</td>\n",
       "      <td>31.545455</td>\n",
       "      <td>0.000000</td>\n",
       "      <td>0.090909</td>\n",
       "      <td>0.909091</td>\n",
       "      <td>0.000000</td>\n",
       "      <td>0.000000</td>\n",
       "      <td>0.090909</td>\n",
       "      <td>0.000000</td>\n",
       "      <td>0.909091</td>\n",
       "      <td>0.909091</td>\n",
       "      <td>0.090909</td>\n",
       "      <td>0.181818</td>\n",
       "      <td>0.000000</td>\n",
       "      <td>0.000000</td>\n",
       "      <td>0.181818</td>\n",
       "      <td>0.000000</td>\n",
       "      <td>0.636364</td>\n",
       "    </tr>\n",
       "    <tr>\n",
       "      <th>1</th>\n",
       "      <td>589.551429</td>\n",
       "      <td>39.285714</td>\n",
       "      <td>0.285714</td>\n",
       "      <td>0.000000</td>\n",
       "      <td>0.000000</td>\n",
       "      <td>0.714286</td>\n",
       "      <td>0.428571</td>\n",
       "      <td>0.142857</td>\n",
       "      <td>0.000000</td>\n",
       "      <td>0.428571</td>\n",
       "      <td>0.285714</td>\n",
       "      <td>0.714286</td>\n",
       "      <td>0.000000</td>\n",
       "      <td>0.000000</td>\n",
       "      <td>0.000000</td>\n",
       "      <td>0.285714</td>\n",
       "      <td>0.428571</td>\n",
       "      <td>0.285714</td>\n",
       "    </tr>\n",
       "    <tr>\n",
       "      <th>2</th>\n",
       "      <td>510.357143</td>\n",
       "      <td>29.560000</td>\n",
       "      <td>0.000000</td>\n",
       "      <td>0.000000</td>\n",
       "      <td>0.000000</td>\n",
       "      <td>1.000000</td>\n",
       "      <td>0.000000</td>\n",
       "      <td>0.142857</td>\n",
       "      <td>0.285714</td>\n",
       "      <td>0.571429</td>\n",
       "      <td>0.857143</td>\n",
       "      <td>0.142857</td>\n",
       "      <td>0.142857</td>\n",
       "      <td>0.285714</td>\n",
       "      <td>0.142857</td>\n",
       "      <td>0.000000</td>\n",
       "      <td>0.000000</td>\n",
       "      <td>0.428571</td>\n",
       "    </tr>\n",
       "  </tbody>\n",
       "</table>\n",
       "</div>"
      ],
      "text/plain": [
       "           ingresos       edad  estudios_Maestria  estudios_Primaria  \\\n",
       "cluster                                                                \n",
       "0        291.863636  31.545455           0.000000           0.090909   \n",
       "1        589.551429  39.285714           0.285714           0.000000   \n",
       "2        510.357143  29.560000           0.000000           0.000000   \n",
       "\n",
       "         estudios_Secundaria  estudios_Universidad  ocupación_Gerente  \\\n",
       "cluster                                                                 \n",
       "0                   0.909091              0.000000           0.000000   \n",
       "1                   0.000000              0.714286           0.428571   \n",
       "2                   0.000000              1.000000           0.000000   \n",
       "\n",
       "         ocupación_JefeArea  ocupación_NoTrabaja  ocupación_Operativo  \\\n",
       "cluster                                                                 \n",
       "0                  0.090909             0.000000             0.909091   \n",
       "1                  0.142857             0.000000             0.428571   \n",
       "2                  0.142857             0.285714             0.571429   \n",
       "\n",
       "         medio_Facebook  medio_PaginaWeb  sector_CENTRO  sector_CENTRO-NORTE  \\\n",
       "cluster                                                                        \n",
       "0              0.909091         0.090909       0.181818             0.000000   \n",
       "1              0.285714         0.714286       0.000000             0.000000   \n",
       "2              0.857143         0.142857       0.142857             0.285714   \n",
       "\n",
       "         sector_CENTRO-SUR  sector_NORTE  sector_PERIFERIA  sector_SUR  \n",
       "cluster                                                                 \n",
       "0                 0.000000      0.181818          0.000000    0.636364  \n",
       "1                 0.000000      0.285714          0.428571    0.285714  \n",
       "2                 0.142857      0.000000          0.000000    0.428571  "
      ]
     },
     "execution_count": 228,
     "metadata": {},
     "output_type": "execute_result"
    }
   ],
   "source": [
    "data_encoded.groupby('cluster').mean()"
   ]
  },
  {
   "cell_type": "markdown",
   "id": "cdfeab62",
   "metadata": {},
   "source": [
    "#### Data Frame encoded etiquetado con clusters"
   ]
  },
  {
   "cell_type": "code",
   "execution_count": 229,
   "id": "9a785550",
   "metadata": {},
   "outputs": [
    {
     "data": {
      "text/html": [
       "<div>\n",
       "<style scoped>\n",
       "    .dataframe tbody tr th:only-of-type {\n",
       "        vertical-align: middle;\n",
       "    }\n",
       "\n",
       "    .dataframe tbody tr th {\n",
       "        vertical-align: top;\n",
       "    }\n",
       "\n",
       "    .dataframe thead th {\n",
       "        text-align: right;\n",
       "    }\n",
       "</style>\n",
       "<table border=\"1\" class=\"dataframe\">\n",
       "  <thead>\n",
       "    <tr style=\"text-align: right;\">\n",
       "      <th></th>\n",
       "      <th>ingresos</th>\n",
       "      <th>edad</th>\n",
       "      <th>estudios_Maestria</th>\n",
       "      <th>estudios_Primaria</th>\n",
       "      <th>estudios_Secundaria</th>\n",
       "      <th>estudios_Universidad</th>\n",
       "      <th>ocupación_Gerente</th>\n",
       "      <th>ocupación_JefeArea</th>\n",
       "      <th>ocupación_NoTrabaja</th>\n",
       "      <th>ocupación_Operativo</th>\n",
       "      <th>medio_Facebook</th>\n",
       "      <th>medio_PaginaWeb</th>\n",
       "      <th>sector_CENTRO</th>\n",
       "      <th>sector_CENTRO-NORTE</th>\n",
       "      <th>sector_CENTRO-SUR</th>\n",
       "      <th>sector_NORTE</th>\n",
       "      <th>sector_PERIFERIA</th>\n",
       "      <th>sector_SUR</th>\n",
       "      <th>cluster</th>\n",
       "    </tr>\n",
       "  </thead>\n",
       "  <tbody>\n",
       "    <tr>\n",
       "      <th>0</th>\n",
       "      <td>610.5</td>\n",
       "      <td>36.0</td>\n",
       "      <td>1</td>\n",
       "      <td>0</td>\n",
       "      <td>0</td>\n",
       "      <td>0</td>\n",
       "      <td>0</td>\n",
       "      <td>0</td>\n",
       "      <td>0</td>\n",
       "      <td>1</td>\n",
       "      <td>0</td>\n",
       "      <td>1</td>\n",
       "      <td>0</td>\n",
       "      <td>0</td>\n",
       "      <td>0</td>\n",
       "      <td>0</td>\n",
       "      <td>0</td>\n",
       "      <td>1</td>\n",
       "      <td>1</td>\n",
       "    </tr>\n",
       "    <tr>\n",
       "      <th>1</th>\n",
       "      <td>610.5</td>\n",
       "      <td>42.0</td>\n",
       "      <td>0</td>\n",
       "      <td>0</td>\n",
       "      <td>0</td>\n",
       "      <td>1</td>\n",
       "      <td>0</td>\n",
       "      <td>0</td>\n",
       "      <td>0</td>\n",
       "      <td>1</td>\n",
       "      <td>0</td>\n",
       "      <td>1</td>\n",
       "      <td>0</td>\n",
       "      <td>0</td>\n",
       "      <td>0</td>\n",
       "      <td>0</td>\n",
       "      <td>0</td>\n",
       "      <td>1</td>\n",
       "      <td>1</td>\n",
       "    </tr>\n",
       "  </tbody>\n",
       "</table>\n",
       "</div>"
      ],
      "text/plain": [
       "   ingresos  edad  estudios_Maestria  estudios_Primaria  estudios_Secundaria  \\\n",
       "0     610.5  36.0                  1                  0                    0   \n",
       "1     610.5  42.0                  0                  0                    0   \n",
       "\n",
       "   estudios_Universidad  ocupación_Gerente  ocupación_JefeArea  \\\n",
       "0                     0                  0                   0   \n",
       "1                     1                  0                   0   \n",
       "\n",
       "   ocupación_NoTrabaja  ocupación_Operativo  medio_Facebook  medio_PaginaWeb  \\\n",
       "0                    0                    1               0                1   \n",
       "1                    0                    1               0                1   \n",
       "\n",
       "   sector_CENTRO  sector_CENTRO-NORTE  sector_CENTRO-SUR  sector_NORTE  \\\n",
       "0              0                    0                  0             0   \n",
       "1              0                    0                  0             0   \n",
       "\n",
       "   sector_PERIFERIA  sector_SUR  cluster  \n",
       "0                 0           1        1  \n",
       "1                 0           1        1  "
      ]
     },
     "execution_count": 229,
     "metadata": {},
     "output_type": "execute_result"
    }
   ],
   "source": [
    "data_encoded.head(2)"
   ]
  },
  {
   "cell_type": "code",
   "execution_count": 230,
   "id": "46c2af6b",
   "metadata": {},
   "outputs": [],
   "source": [
    "data_encoded.drop('cluster',axis=1,inplace=True)"
   ]
  },
  {
   "cell_type": "markdown",
   "id": "81b14431",
   "metadata": {},
   "source": [
    "#### Data Frame Original con clusters"
   ]
  },
  {
   "cell_type": "code",
   "execution_count": 231,
   "id": "bdbe7c87",
   "metadata": {},
   "outputs": [
    {
     "data": {
      "text/html": [
       "<div>\n",
       "<style scoped>\n",
       "    .dataframe tbody tr th:only-of-type {\n",
       "        vertical-align: middle;\n",
       "    }\n",
       "\n",
       "    .dataframe tbody tr th {\n",
       "        vertical-align: top;\n",
       "    }\n",
       "\n",
       "    .dataframe thead th {\n",
       "        text-align: right;\n",
       "    }\n",
       "</style>\n",
       "<table border=\"1\" class=\"dataframe\">\n",
       "  <thead>\n",
       "    <tr style=\"text-align: right;\">\n",
       "      <th></th>\n",
       "      <th>estudios</th>\n",
       "      <th>ocupación</th>\n",
       "      <th>ingresos</th>\n",
       "      <th>medio</th>\n",
       "      <th>sector</th>\n",
       "      <th>edad</th>\n",
       "      <th>cluster</th>\n",
       "    </tr>\n",
       "  </thead>\n",
       "  <tbody>\n",
       "    <tr>\n",
       "      <th>0</th>\n",
       "      <td>Maestria</td>\n",
       "      <td>Operativo</td>\n",
       "      <td>610.50</td>\n",
       "      <td>PaginaWeb</td>\n",
       "      <td>SUR</td>\n",
       "      <td>36.0</td>\n",
       "      <td>1</td>\n",
       "    </tr>\n",
       "    <tr>\n",
       "      <th>1</th>\n",
       "      <td>Universidad</td>\n",
       "      <td>Operativo</td>\n",
       "      <td>610.50</td>\n",
       "      <td>PaginaWeb</td>\n",
       "      <td>SUR</td>\n",
       "      <td>42.0</td>\n",
       "      <td>1</td>\n",
       "    </tr>\n",
       "    <tr>\n",
       "      <th>2</th>\n",
       "      <td>Universidad</td>\n",
       "      <td>NoTrabaja</td>\n",
       "      <td>260.00</td>\n",
       "      <td>Facebook</td>\n",
       "      <td>SUR</td>\n",
       "      <td>27.0</td>\n",
       "      <td>2</td>\n",
       "    </tr>\n",
       "    <tr>\n",
       "      <th>3</th>\n",
       "      <td>Maestria</td>\n",
       "      <td>Gerente</td>\n",
       "      <td>610.50</td>\n",
       "      <td>PaginaWeb</td>\n",
       "      <td>PERIFERIA</td>\n",
       "      <td>42.0</td>\n",
       "      <td>1</td>\n",
       "    </tr>\n",
       "    <tr>\n",
       "      <th>4</th>\n",
       "      <td>Universidad</td>\n",
       "      <td>Gerente</td>\n",
       "      <td>463.86</td>\n",
       "      <td>Facebook</td>\n",
       "      <td>PERIFERIA</td>\n",
       "      <td>43.0</td>\n",
       "      <td>1</td>\n",
       "    </tr>\n",
       "  </tbody>\n",
       "</table>\n",
       "</div>"
      ],
      "text/plain": [
       "      estudios  ocupación  ingresos      medio     sector  edad  cluster\n",
       "0     Maestria  Operativo    610.50  PaginaWeb        SUR  36.0        1\n",
       "1  Universidad  Operativo    610.50  PaginaWeb        SUR  42.0        1\n",
       "2  Universidad  NoTrabaja    260.00   Facebook        SUR  27.0        2\n",
       "3     Maestria    Gerente    610.50  PaginaWeb  PERIFERIA  42.0        1\n",
       "4  Universidad    Gerente    463.86   Facebook  PERIFERIA  43.0        1"
      ]
     },
     "execution_count": 231,
     "metadata": {},
     "output_type": "execute_result"
    }
   ],
   "source": [
    "#Add the cluster labels to the original dataset\n",
    "df2['cluster'] = cluster_labels\n",
    "\n",
    "#Print the clusters\n",
    "df2.head()"
   ]
  },
  {
   "cell_type": "code",
   "execution_count": 232,
   "id": "26cacaf7",
   "metadata": {},
   "outputs": [
    {
     "data": {
      "text/plain": [
       "0    11\n",
       "1     7\n",
       "2     7\n",
       "Name: cluster, dtype: int64"
      ]
     },
     "execution_count": 232,
     "metadata": {},
     "output_type": "execute_result"
    }
   ],
   "source": [
    "df2['cluster'].value_counts()"
   ]
  },
  {
   "cell_type": "code",
   "execution_count": 233,
   "id": "50571748",
   "metadata": {},
   "outputs": [
    {
     "data": {
      "text/html": [
       "<div>\n",
       "<style scoped>\n",
       "    .dataframe tbody tr th:only-of-type {\n",
       "        vertical-align: middle;\n",
       "    }\n",
       "\n",
       "    .dataframe tbody tr th {\n",
       "        vertical-align: top;\n",
       "    }\n",
       "\n",
       "    .dataframe thead th {\n",
       "        text-align: right;\n",
       "    }\n",
       "</style>\n",
       "<table border=\"1\" class=\"dataframe\">\n",
       "  <thead>\n",
       "    <tr style=\"text-align: right;\">\n",
       "      <th></th>\n",
       "      <th>ingresos</th>\n",
       "      <th>edad</th>\n",
       "    </tr>\n",
       "    <tr>\n",
       "      <th>cluster</th>\n",
       "      <th></th>\n",
       "      <th></th>\n",
       "    </tr>\n",
       "  </thead>\n",
       "  <tbody>\n",
       "    <tr>\n",
       "      <th>0</th>\n",
       "      <td>291.863636</td>\n",
       "      <td>31.545455</td>\n",
       "    </tr>\n",
       "    <tr>\n",
       "      <th>1</th>\n",
       "      <td>589.551429</td>\n",
       "      <td>39.285714</td>\n",
       "    </tr>\n",
       "    <tr>\n",
       "      <th>2</th>\n",
       "      <td>510.357143</td>\n",
       "      <td>29.560000</td>\n",
       "    </tr>\n",
       "  </tbody>\n",
       "</table>\n",
       "</div>"
      ],
      "text/plain": [
       "           ingresos       edad\n",
       "cluster                       \n",
       "0        291.863636  31.545455\n",
       "1        589.551429  39.285714\n",
       "2        510.357143  29.560000"
      ]
     },
     "execution_count": 233,
     "metadata": {},
     "output_type": "execute_result"
    }
   ],
   "source": [
    "df2.groupby(by='cluster').mean()"
   ]
  },
  {
   "cell_type": "code",
   "execution_count": 234,
   "id": "71fd6440",
   "metadata": {},
   "outputs": [
    {
     "name": "stdout",
     "output_type": "stream",
     "text": [
      "cluster:  0\n",
      "          estudios  ocupación     medio sector\n",
      "count           11         11        11     11\n",
      "unique           2          2         2      3\n",
      "top     Secundaria  Operativo  Facebook    SUR\n",
      "freq            10         10        10      7\n",
      "           ingresos       edad\n",
      "cluster                       \n",
      "0        291.863636  31.545455\n",
      "\n",
      "\n",
      "cluster:  1\n",
      "           estudios  ocupación      medio     sector\n",
      "count             7          7          7          7\n",
      "unique            2          3          2          3\n",
      "top     Universidad  Operativo  PaginaWeb  PERIFERIA\n",
      "freq              5          3          5          3\n",
      "           ingresos       edad\n",
      "cluster                       \n",
      "1        589.551429  39.285714\n",
      "\n",
      "\n",
      "cluster:  2\n",
      "           estudios  ocupación     medio sector\n",
      "count             7          7         7      7\n",
      "unique            1          3         2      4\n",
      "top     Universidad  Operativo  Facebook    SUR\n",
      "freq              7          4         6      3\n",
      "           ingresos   edad\n",
      "cluster                   \n",
      "2        510.357143  29.56\n",
      "\n",
      "\n"
     ]
    }
   ],
   "source": [
    "for i in range(0,k):\n",
    "    print(\"cluster: \",i)\n",
    "    print(df2[df2['cluster']==i].describe(include='object'))\n",
    "    print(df2.groupby(by='cluster').mean()[i:i+1])\n",
    "    print(\"\\n\")"
   ]
  },
  {
   "cell_type": "markdown",
   "id": "0aa3efa0",
   "metadata": {},
   "source": [
    "### 3.2 Plotting data"
   ]
  },
  {
   "cell_type": "code",
   "execution_count": 235,
   "id": "d391f8d5",
   "metadata": {},
   "outputs": [
    {
     "data": {
      "text/html": [
       "<div>\n",
       "<style scoped>\n",
       "    .dataframe tbody tr th:only-of-type {\n",
       "        vertical-align: middle;\n",
       "    }\n",
       "\n",
       "    .dataframe tbody tr th {\n",
       "        vertical-align: top;\n",
       "    }\n",
       "\n",
       "    .dataframe thead th {\n",
       "        text-align: right;\n",
       "    }\n",
       "</style>\n",
       "<table border=\"1\" class=\"dataframe\">\n",
       "  <thead>\n",
       "    <tr style=\"text-align: right;\">\n",
       "      <th></th>\n",
       "      <th>ingresos</th>\n",
       "      <th>edad</th>\n",
       "      <th>estudios_Maestria</th>\n",
       "      <th>estudios_Primaria</th>\n",
       "      <th>estudios_Secundaria</th>\n",
       "      <th>estudios_Universidad</th>\n",
       "      <th>ocupación_Gerente</th>\n",
       "      <th>ocupación_JefeArea</th>\n",
       "      <th>ocupación_NoTrabaja</th>\n",
       "      <th>ocupación_Operativo</th>\n",
       "      <th>medio_Facebook</th>\n",
       "      <th>medio_PaginaWeb</th>\n",
       "      <th>sector_CENTRO</th>\n",
       "      <th>sector_CENTRO-NORTE</th>\n",
       "      <th>sector_CENTRO-SUR</th>\n",
       "      <th>sector_NORTE</th>\n",
       "      <th>sector_PERIFERIA</th>\n",
       "      <th>sector_SUR</th>\n",
       "      <th>cluster</th>\n",
       "    </tr>\n",
       "  </thead>\n",
       "  <tbody>\n",
       "    <tr>\n",
       "      <th>0</th>\n",
       "      <td>1.013416</td>\n",
       "      <td>0.372107</td>\n",
       "      <td>3.391165</td>\n",
       "      <td>-0.204124</td>\n",
       "      <td>-0.816497</td>\n",
       "      <td>-0.960769</td>\n",
       "      <td>-0.369274</td>\n",
       "      <td>-0.369274</td>\n",
       "      <td>-0.294884</td>\n",
       "      <td>0.685994</td>\n",
       "      <td>-1.603567</td>\n",
       "      <td>1.603567</td>\n",
       "      <td>-0.369274</td>\n",
       "      <td>-0.294884</td>\n",
       "      <td>-0.204124</td>\n",
       "      <td>-0.436436</td>\n",
       "      <td>-0.369274</td>\n",
       "      <td>1.040833</td>\n",
       "      <td>1</td>\n",
       "    </tr>\n",
       "    <tr>\n",
       "      <th>1</th>\n",
       "      <td>1.013416</td>\n",
       "      <td>1.157363</td>\n",
       "      <td>-0.294884</td>\n",
       "      <td>-0.204124</td>\n",
       "      <td>-0.816497</td>\n",
       "      <td>1.040833</td>\n",
       "      <td>-0.369274</td>\n",
       "      <td>-0.369274</td>\n",
       "      <td>-0.294884</td>\n",
       "      <td>0.685994</td>\n",
       "      <td>-1.603567</td>\n",
       "      <td>1.603567</td>\n",
       "      <td>-0.369274</td>\n",
       "      <td>-0.294884</td>\n",
       "      <td>-0.204124</td>\n",
       "      <td>-0.436436</td>\n",
       "      <td>-0.369274</td>\n",
       "      <td>1.040833</td>\n",
       "      <td>1</td>\n",
       "    </tr>\n",
       "    <tr>\n",
       "      <th>2</th>\n",
       "      <td>-1.026738</td>\n",
       "      <td>-0.805778</td>\n",
       "      <td>-0.294884</td>\n",
       "      <td>-0.204124</td>\n",
       "      <td>-0.816497</td>\n",
       "      <td>1.040833</td>\n",
       "      <td>-0.369274</td>\n",
       "      <td>-0.369274</td>\n",
       "      <td>3.391165</td>\n",
       "      <td>-1.457738</td>\n",
       "      <td>0.623610</td>\n",
       "      <td>-0.623610</td>\n",
       "      <td>-0.369274</td>\n",
       "      <td>-0.294884</td>\n",
       "      <td>-0.204124</td>\n",
       "      <td>-0.436436</td>\n",
       "      <td>-0.369274</td>\n",
       "      <td>1.040833</td>\n",
       "      <td>2</td>\n",
       "    </tr>\n",
       "  </tbody>\n",
       "</table>\n",
       "</div>"
      ],
      "text/plain": [
       "   ingresos      edad  estudios_Maestria  estudios_Primaria  \\\n",
       "0  1.013416  0.372107           3.391165          -0.204124   \n",
       "1  1.013416  1.157363          -0.294884          -0.204124   \n",
       "2 -1.026738 -0.805778          -0.294884          -0.204124   \n",
       "\n",
       "   estudios_Secundaria  estudios_Universidad  ocupación_Gerente  \\\n",
       "0            -0.816497             -0.960769          -0.369274   \n",
       "1            -0.816497              1.040833          -0.369274   \n",
       "2            -0.816497              1.040833          -0.369274   \n",
       "\n",
       "   ocupación_JefeArea  ocupación_NoTrabaja  ocupación_Operativo  \\\n",
       "0           -0.369274            -0.294884             0.685994   \n",
       "1           -0.369274            -0.294884             0.685994   \n",
       "2           -0.369274             3.391165            -1.457738   \n",
       "\n",
       "   medio_Facebook  medio_PaginaWeb  sector_CENTRO  sector_CENTRO-NORTE  \\\n",
       "0       -1.603567         1.603567      -0.369274            -0.294884   \n",
       "1       -1.603567         1.603567      -0.369274            -0.294884   \n",
       "2        0.623610        -0.623610      -0.369274            -0.294884   \n",
       "\n",
       "   sector_CENTRO-SUR  sector_NORTE  sector_PERIFERIA  sector_SUR  cluster  \n",
       "0          -0.204124     -0.436436         -0.369274    1.040833        1  \n",
       "1          -0.204124     -0.436436         -0.369274    1.040833        1  \n",
       "2          -0.204124     -0.436436         -0.369274    1.040833        2  "
      ]
     },
     "execution_count": 235,
     "metadata": {},
     "output_type": "execute_result"
    }
   ],
   "source": [
    "data_scaled_df = pd.DataFrame(data_scaled, columns=data_encoded.columns)\n",
    "data_scaled_df['cluster'] = cluster_labels\n",
    "data_scaled_df.head(3)"
   ]
  },
  {
   "cell_type": "code",
   "execution_count": 236,
   "id": "e0bde905",
   "metadata": {},
   "outputs": [
    {
     "data": {
      "text/plain": [
       "(25, 19)"
      ]
     },
     "execution_count": 236,
     "metadata": {},
     "output_type": "execute_result"
    }
   ],
   "source": [
    "data_scaled_df.shape"
   ]
  },
  {
   "cell_type": "code",
   "execution_count": 237,
   "id": "51aef86a",
   "metadata": {},
   "outputs": [
    {
     "data": {
      "image/png": "[encoded data removed]",
      "text/plain": [
       "<Figure size 360x288 with 1 Axes>"
      ]
     },
     "metadata": {},
     "output_type": "display_data"
    }
   ],
   "source": [
    "cl_y=data_scaled_df.cluster.tolist()\n",
    "X1=data_scaled[:,0]\n",
    "X2=data_scaled[:,1]\n",
    "\n",
    "plt.figure(figsize=(5,4))\n",
    "plt.grid();\n",
    "plt.scatter(X1,X2,c=cl_y, cmap=plt.cm.Set1,edgecolor=\"k\")\n",
    "plt.xlabel(\"Ingresos\")\n",
    "plt.ylabel(\"Edad\")\n",
    "plt.plot();"
   ]
  },
  {
   "cell_type": "code",
   "execution_count": 243,
   "id": "739f3787",
   "metadata": {},
   "outputs": [
    {
     "data": {
      "text/html": [
       "<div>\n",
       "<style scoped>\n",
       "    .dataframe tbody tr th:only-of-type {\n",
       "        vertical-align: middle;\n",
       "    }\n",
       "\n",
       "    .dataframe tbody tr th {\n",
       "        vertical-align: top;\n",
       "    }\n",
       "\n",
       "    .dataframe thead th {\n",
       "        text-align: right;\n",
       "    }\n",
       "</style>\n",
       "<table border=\"1\" class=\"dataframe\">\n",
       "  <thead>\n",
       "    <tr style=\"text-align: right;\">\n",
       "      <th></th>\n",
       "      <th>estudios</th>\n",
       "      <th>ocupación</th>\n",
       "      <th>ingresos</th>\n",
       "      <th>medio</th>\n",
       "      <th>sector</th>\n",
       "      <th>edad</th>\n",
       "      <th>cluster</th>\n",
       "    </tr>\n",
       "  </thead>\n",
       "  <tbody>\n",
       "    <tr>\n",
       "      <th>0</th>\n",
       "      <td>Maestria</td>\n",
       "      <td>Operativo</td>\n",
       "      <td>610.50</td>\n",
       "      <td>PaginaWeb</td>\n",
       "      <td>SUR</td>\n",
       "      <td>36.0</td>\n",
       "      <td>1</td>\n",
       "    </tr>\n",
       "    <tr>\n",
       "      <th>1</th>\n",
       "      <td>Universidad</td>\n",
       "      <td>Operativo</td>\n",
       "      <td>610.50</td>\n",
       "      <td>PaginaWeb</td>\n",
       "      <td>SUR</td>\n",
       "      <td>42.0</td>\n",
       "      <td>1</td>\n",
       "    </tr>\n",
       "    <tr>\n",
       "      <th>2</th>\n",
       "      <td>Universidad</td>\n",
       "      <td>NoTrabaja</td>\n",
       "      <td>260.00</td>\n",
       "      <td>Facebook</td>\n",
       "      <td>SUR</td>\n",
       "      <td>27.0</td>\n",
       "      <td>2</td>\n",
       "    </tr>\n",
       "    <tr>\n",
       "      <th>3</th>\n",
       "      <td>Maestria</td>\n",
       "      <td>Gerente</td>\n",
       "      <td>610.50</td>\n",
       "      <td>PaginaWeb</td>\n",
       "      <td>PERIFERIA</td>\n",
       "      <td>42.0</td>\n",
       "      <td>1</td>\n",
       "    </tr>\n",
       "    <tr>\n",
       "      <th>4</th>\n",
       "      <td>Universidad</td>\n",
       "      <td>Gerente</td>\n",
       "      <td>463.86</td>\n",
       "      <td>Facebook</td>\n",
       "      <td>PERIFERIA</td>\n",
       "      <td>43.0</td>\n",
       "      <td>1</td>\n",
       "    </tr>\n",
       "  </tbody>\n",
       "</table>\n",
       "</div>"
      ],
      "text/plain": [
       "      estudios  ocupación  ingresos      medio     sector  edad  cluster\n",
       "0     Maestria  Operativo    610.50  PaginaWeb        SUR  36.0        1\n",
       "1  Universidad  Operativo    610.50  PaginaWeb        SUR  42.0        1\n",
       "2  Universidad  NoTrabaja    260.00   Facebook        SUR  27.0        2\n",
       "3     Maestria    Gerente    610.50  PaginaWeb  PERIFERIA  42.0        1\n",
       "4  Universidad    Gerente    463.86   Facebook  PERIFERIA  43.0        1"
      ]
     },
     "execution_count": 243,
     "metadata": {},
     "output_type": "execute_result"
    }
   ],
   "source": [
    "df2.head()"
   ]
  },
  {
   "cell_type": "code",
   "execution_count": 239,
   "id": "7f492c32",
   "metadata": {},
   "outputs": [
    {
     "data": {
      "image/png": "[encoded data removed]",
      "text/plain": [
       "<Figure size 648x360 with 1 Axes>"
      ]
     },
     "metadata": {},
     "output_type": "display_data"
    }
   ],
   "source": [
    "cl_y=df2.cluster.tolist()\n",
    "X1=df2.ingresos.tolist()\n",
    "X2=df2.edad.tolist()\n",
    "\n",
    "plt.figure(figsize=(9,5))\n",
    "plt.grid();\n",
    "plt.scatter(X1,X2,c=cl_y, cmap=plt.cm.Set1,edgecolor=\"k\")\n",
    "plt.xlabel(\"Ingresos\")\n",
    "plt.ylabel(\"Edad\")\n",
    "plt.plot();"
   ]
  },
  {
   "cell_type": "code",
   "execution_count": 246,
   "id": "ab7ccd9a",
   "metadata": {},
   "outputs": [
    {
     "data": {
      "text/plain": [
       "0    11\n",
       "1     7\n",
       "2     7\n",
       "Name: cluster, dtype: int64"
      ]
     },
     "execution_count": 246,
     "metadata": {},
     "output_type": "execute_result"
    }
   ],
   "source": [
    "df2.cluster.value_counts()"
   ]
  },
  {
   "cell_type": "code",
   "execution_count": 247,
   "id": "5bfcb37c",
   "metadata": {},
   "outputs": [
    {
     "data": {
      "text/plain": [
       "{'cl0': 'rojo', 'cl1': 'naranja', 'cl2': 'plomo'}"
      ]
     },
     "execution_count": 247,
     "metadata": {},
     "output_type": "execute_result"
    }
   ],
   "source": [
    "cluster_dic={'cl0':'rojo','cl1':'naranja','cl2':'plomo'}\n",
    "cluster_dic"
   ]
  },
  {
   "cell_type": "markdown",
   "id": "e51c2190",
   "metadata": {},
   "source": [
    "### 3.2 Clusters in 3D Plotting"
   ]
  },
  {
   "cell_type": "code",
   "execution_count": 272,
   "id": "cc536ca9",
   "metadata": {},
   "outputs": [],
   "source": [
    "from sklearn.decomposition import PCA\n",
    "X_reduced = PCA(n_components=3).fit_transform(data_scaled)"
   ]
  },
  {
   "cell_type": "code",
   "execution_count": 284,
   "id": "2de7ec68",
   "metadata": {},
   "outputs": [
    {
     "data": {
      "image/png": "[encoded data removed]",
      "text/plain": [
       "<Figure size 720x576 with 1 Axes>"
      ]
     },
     "metadata": {},
     "output_type": "display_data"
    }
   ],
   "source": [
    "fig = plt.figure(1, figsize=(10, 8))\n",
    "ax = fig.add_subplot(111, projection=\"3d\", elev=-150, azim=100) #elev: elevación, azim: azimut\n",
    "\n",
    "ax.scatter(\n",
    "    X_reduced[:, 0],\n",
    "    X_reduced[:, 1],\n",
    "    X_reduced[:, 2],\n",
    "    c=cl_y,\n",
    "    cmap=plt.cm.Set1,\n",
    "    edgecolor=\"k\",\n",
    "    s=40,\n",
    ");\n",
    "\n",
    "ax.set_title(\"First three PCA directions\")\n",
    "ax.set_xlabel(\"1st eigenvector\")\n",
    "ax.xaxis.set_ticklabels([])\n",
    "ax.set_ylabel(\"2nd eigenvector\")\n",
    "ax.yaxis.set_ticklabels([])\n",
    "ax.set_zlabel(\"3rd eigenvector\")\n",
    "ax.zaxis.set_ticklabels([])\n",
    "\n",
    "plt.show()"
   ]
  },
  {
   "cell_type": "markdown",
   "id": "4e00d467",
   "metadata": {},
   "source": [
    "## 4) Conclusiones"
   ]
  },
  {
   "cell_type": "code",
   "execution_count": null,
   "id": "99571656",
   "metadata": {},
   "outputs": [],
   "source": []
  }
 ],
 "metadata": {
  "kernelspec": {
   "display_name": "Python 3 (ipykernel)",
   "language": "python",
   "name": "python3"
  },
  "language_info": {
   "codemirror_mode": {
    "name": "ipython",
    "version": 3
   },
   "file_extension": ".py",
   "mimetype": "text/x-python",
   "name": "python",
   "nbconvert_exporter": "python",
   "pygments_lexer": "ipython3",
   "version": "3.9.7"
  }
 },
 "nbformat": 4,
 "nbformat_minor": 5
}
